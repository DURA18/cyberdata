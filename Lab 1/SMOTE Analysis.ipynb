{
 "cells": [
  {
   "cell_type": "code",
   "execution_count": null,
   "metadata": {},
   "outputs": [],
   "source": [
    "import pandas as pd\n",
    "import numpy as np\n",
    "import matplotlib.pyplot as plt\n",
    "import seaborn as sns\n",
    "%matplotlib inline\n",
    "\n",
    "%load_ext autoreload\n",
    "%autoreload 2\n",
    "\n",
    "from cda_prep import *\n",
    "from cda_util import *\n",
    "from cda_models import *\n",
    "\n",
    "from sklearn.neighbors import KNeighborsClassifier\n",
    "from sklearn.ensemble import RandomForestClassifier, AdaBoostClassifier\n",
    "from sklearn.tree import DecisionTreeClassifier\n",
    "from sklearn.linear_model import LogisticRegression"
   ]
  },
  {
   "cell_type": "markdown",
   "metadata": {},
   "source": [
    "# Cyber Data Analytics - Lab 1\n",
    "Cheatsheet: https://gist.github.com/agalea91/545e2337b94d965be788f7db18b1f497"
   ]
  },
  {
   "cell_type": "markdown",
   "metadata": {},
   "source": [
    "**Data description**\n",
    " - `issuercountrycode`: country where the card was issued\n",
    " - `txvariantcode`: the card type that was used (subbrand of visa or master card)\n",
    " - `bin`: card issuer identifier\n",
    " - `amount`/currencycode: transaction amount in minor units (so 100 EUR = 100 euro cent)\n",
    " - `shoppercountrycode`: IP address country\n",
    " - `shopperinteraction`: Ecommerce if it was an online transaction, ContAuth if it was a (monthly) subscription\n",
    " - `simple_journal`: Payment status. Authorised = “transaction approved and no fraud reported”, Refused = “transaction was declined, can be fraud, but can also be insufficient funds, etc”, Chargeback = “transaction was approved, but turned out to be fraud”\n",
    " - `bookingdate`: only relevant for Chargebacks. Time stamp when the chargeback was reported. During simulation you may only use this knowledge after this date. So for example if on an email address a transaction ended in a chargeback, you can only block that email address after the booking date of the chargeback.\n",
    " - `cardverificationresponsesupplied`: did the shopper provide his 3 digit CVC/CVV2 code?\n",
    " - `cvcresponsecode`: Validation result of the CVC/CVV2 code: 0 = Unknown, 1=Match, 2=No Match, 3-6=Not checked\n",
    " - `creationdate`: Date of transaction\n",
    " - `accountcode`: merchant’s webshop\n",
    " - `mail_id`: Email address\n",
    " - `ip_id`: Ip address\n",
    " - `card_id`: Card number"
   ]
  },
  {
   "cell_type": "markdown",
   "metadata": {},
   "source": [
    "**Variables to handle carefully:**\n",
    "\n",
    "`simple_journal` /\n",
    "`bookingdate` /\n",
    "`creationdate`"
   ]
  },
  {
   "cell_type": "markdown",
   "metadata": {},
   "source": [
    "### 1. Get data"
   ]
  },
  {
   "cell_type": "code",
   "execution_count": null,
   "metadata": {},
   "outputs": [],
   "source": [
    "df, df_raw = get_data('data/data_for_student_case.csv')"
   ]
  },
  {
   "cell_type": "code",
   "execution_count": null,
   "metadata": {},
   "outputs": [],
   "source": [
    "print(\"Raw dataset:\")\n",
    "display(df_raw.head(3))\n",
    "\n",
    "print(\"Processed dataset:\")\n",
    "display(df.head(3))"
   ]
  },
  {
   "cell_type": "markdown",
   "metadata": {},
   "source": [
    "### 2. Explore"
   ]
  },
  {
   "cell_type": "code",
   "execution_count": null,
   "metadata": {},
   "outputs": [],
   "source": [
    "df_stats = get_class_balance(df)\n",
    "\n",
    "with pd.option_context('display.float_format', lambda x: \"%.3f\" % x):\n",
    "    display(df_stats)"
   ]
  },
  {
   "cell_type": "markdown",
   "metadata": {},
   "source": [
    "### 3. SMOTE Analysis"
   ]
  },
  {
   "cell_type": "code",
   "execution_count": null,
   "metadata": {},
   "outputs": [],
   "source": [
    "# Split data and labels\n",
    "X, y = split_labels(df)\n",
    "\n",
    "# Drop columns\n",
    "X.drop(columns=['amount_dollar', 'bookingdate', 'creationdate'], inplace=True)"
   ]
  },
  {
   "cell_type": "code",
   "execution_count": null,
   "metadata": {},
   "outputs": [],
   "source": [
    "X.head()"
   ]
  },
  {
   "cell_type": "code",
   "execution_count": null,
   "metadata": {},
   "outputs": [],
   "source": [
    "clf_smote_test = [\n",
    "    (KNeighborsClassifier(5), 5),\n",
    "    (LogisticRegression(solver='lbfgs'), \"\"),\n",
    "    (RandomForestClassifier(n_estimators=100), 100)\n",
    "]"
   ]
  },
  {
   "cell_type": "code",
   "execution_count": null,
   "metadata": {},
   "outputs": [],
   "source": [
    "results = pd.DataFrame(columns=['Classifier', 'Param', 'SMOTE?', 'Mean AUC', 'Std AUC', 'Precision', 'Recall', 'F1-score', 'Confmat'])\n",
    "\n",
    "i = 0\n",
    "for (clf, param) in clf_smote_test:\n",
    "    \n",
    "    # NoSmote\n",
    "    confmat, precision, recall, f1, mean_auc, std_auc = roc_cross_val(X, y, clf, prepare_null, 10, \"w/o SMOTE\")\n",
    "    results.loc[i] = [type(clf).__name__, param, False, mean_auc, std_auc, precision, recall, f1, confmat]\n",
    "    \n",
    "    i+=1\n",
    "    \n",
    "    # Smote\n",
    "    confmat, precision, recall, f1, mean_auc, std_auc = roc_cross_val(X, y, clf, prepare_smote_analysis, 10, \"w/ SMOTE\")\n",
    "    results.loc[i] = [type(clf).__name__, param, True, mean_auc, std_auc, precision, recall, f1, confmat]\n",
    "    \n",
    "    i+=1\n",
    "    "
   ]
  },
  {
   "cell_type": "code",
   "execution_count": null,
   "metadata": {},
   "outputs": [],
   "source": [
    "results"
   ]
  },
  {
   "cell_type": "code",
   "execution_count": null,
   "metadata": {},
   "outputs": [],
   "source": [
    "results.apply(lambda x : display(x['Confmat']), axis=1)"
   ]
  },
  {
   "cell_type": "code",
   "execution_count": null,
   "metadata": {},
   "outputs": [],
   "source": []
  }
 ],
 "metadata": {
  "kernelspec": {
   "display_name": "Python 3",
   "language": "python",
   "name": "python3"
  },
  "language_info": {
   "codemirror_mode": {
    "name": "ipython",
    "version": 3
   },
   "file_extension": ".py",
   "mimetype": "text/x-python",
   "name": "python",
   "nbconvert_exporter": "python",
   "pygments_lexer": "ipython3",
   "version": "3.7.2"
  }
 },
 "nbformat": 4,
 "nbformat_minor": 2
}
