{
 "cells": [
  {
   "cell_type": "code",
   "execution_count": null,
   "metadata": {},
   "outputs": [],
   "source": [
    "import pandas as pd\n",
    "import numpy as np\n",
    "import matplotlib.pyplot as plt\n",
    "import seaborn as sns\n",
    "%matplotlib inline\n",
    "\n",
    "%load_ext autoreload\n",
    "%autoreload 2\n",
    "\n",
    "from cda_prep import *\n",
    "from cda_util import *\n",
    "from cda_models import *\n",
    "\n",
    "from sklearn.neighbors import KNeighborsClassifier\n",
    "from sklearn.ensemble import RandomForestClassifier, AdaBoostClassifier\n",
    "from sklearn.tree import DecisionTreeClassifier\n",
    "from sklearn.linear_model import LogisticRegression"
   ]
  },
  {
   "cell_type": "code",
   "execution_count": null,
   "metadata": {},
   "outputs": [],
   "source": [
    "df, df_raw = get_data('data/data_for_student_case.csv')"
   ]
  },
  {
   "cell_type": "code",
   "execution_count": null,
   "metadata": {},
   "outputs": [],
   "source": [
    "# Split data and labels\n",
    "X, y = split_labels(df)\n",
    "\n",
    "# Drop columns\n",
    "X.drop(columns=['amount_dollar', 'bookingdate', 'creationdate'], inplace=True)"
   ]
  },
  {
   "cell_type": "code",
   "execution_count": null,
   "metadata": {},
   "outputs": [],
   "source": [
    "X.head(2)"
   ]
  },
  {
   "cell_type": "markdown",
   "metadata": {},
   "source": [
    "# Black Box\n",
    "Random Forest Classifier"
   ]
  },
  {
   "cell_type": "code",
   "execution_count": null,
   "metadata": {},
   "outputs": [],
   "source": [
    "wb_grid = [\n",
    "    (RandomForestClassifier(n_estimators=100), \"100\"),\n",
    "#     (RandomForestClassifier(n_estimators=10), \"10\"),\n",
    "#     (RandomForestClassifier(n_estimators=100, max_depth=100, min_samples_split=\"5\"), \"100_100_5\"),\n",
    "#     (RandomForestClassifier(n_estimators=10, max_depth=100, min_samples_split=\"5\"), \"10_100_5\"),\n",
    "]\n",
    "\n",
    "results = pd.DataFrame(columns=['Classifier', 'Param', 'Mean AUC', 'Std AUC', 'Precision', 'Recall', 'F1-score', 'Confmat'])"
   ]
  },
  {
   "cell_type": "code",
   "execution_count": null,
   "metadata": {},
   "outputs": [],
   "source": [
    "i = 1\n",
    "for (clf, param) in wb_grid:\n",
    "\n",
    "    # Black-Box optimized\n",
    "    confmat, precision, recall, f1, mean_auc, std_auc = roc_cross_val(X, y, clf, prepare_blackbox, 10)\n",
    "    results.loc[i] = [type(clf).__name__, param, mean_auc, std_auc, precision, recall, f1, confmat]\n",
    "    \n",
    "    i+=1\n",
    "    "
   ]
  },
  {
   "cell_type": "code",
   "execution_count": null,
   "metadata": {},
   "outputs": [],
   "source": [
    "results"
   ]
  },
  {
   "cell_type": "code",
   "execution_count": null,
   "metadata": {},
   "outputs": [],
   "source": [
    "results['Confmat'].apply(lambda x: display(x))"
   ]
  },
  {
   "cell_type": "code",
   "execution_count": null,
   "metadata": {},
   "outputs": [],
   "source": []
  }
 ],
 "metadata": {
  "kernelspec": {
   "display_name": "Python 3",
   "language": "python",
   "name": "python3"
  },
  "language_info": {
   "codemirror_mode": {
    "name": "ipython",
    "version": 3
   },
   "file_extension": ".py",
   "mimetype": "text/x-python",
   "name": "python",
   "nbconvert_exporter": "python",
   "pygments_lexer": "ipython3",
   "version": "3.7.2"
  }
 },
 "nbformat": 4,
 "nbformat_minor": 2
}
