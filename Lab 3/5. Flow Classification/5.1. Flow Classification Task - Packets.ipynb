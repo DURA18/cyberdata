{
 "cells": [
  {
   "cell_type": "markdown",
   "metadata": {},
   "source": [
    "# 5.1. Flow Classification Task - Packets"
   ]
  },
  {
   "cell_type": "markdown",
   "metadata": {},
   "source": [
    "We use **CTU-13 dataset, malware capture 43**. This notebook attempts to classify individual NetFlows (rows in the dataset)."
   ]
  },
  {
   "cell_type": "code",
   "execution_count": 1,
   "metadata": {},
   "outputs": [],
   "source": [
    "%load_ext autoreload\n",
    "%autoreload 2"
   ]
  },
  {
   "cell_type": "code",
   "execution_count": 2,
   "metadata": {},
   "outputs": [],
   "source": [
    "import pandas as pd\n",
    "import os\n",
    "import sys\n",
    "nb_dir = os.path.split(os.getcwd())[0]\n",
    "if nb_dir not in sys.path:\n",
    "    sys.path.append(nb_dir)\n",
    "from global_helper import *\n",
    "from helper import *\n",
    "from itertools import product\n",
    "\n",
    "from sklearn.neighbors import KNeighborsClassifier\n",
    "from sklearn.gaussian_process import GaussianProcessClassifier\n",
    "from sklearn.tree import DecisionTreeClassifier\n",
    "from sklearn.ensemble import RandomForestClassifier, AdaBoostClassifier\n",
    "from sklearn.naive_bayes import GaussianNB\n",
    "from sklearn.metrics import confusion_matrix, classification_report\n",
    "\n",
    "from imblearn.over_sampling import SMOTE\n",
    "from imblearn.pipeline import make_pipeline"
   ]
  },
  {
   "cell_type": "markdown",
   "metadata": {},
   "source": [
    "## Load data"
   ]
  },
  {
   "cell_type": "code",
   "execution_count": 3,
   "metadata": {},
   "outputs": [
    {
     "name": "stdout",
     "output_type": "stream",
     "text": [
      "Wall time: 59 s\n"
     ]
    }
   ],
   "source": [
    "%%time\n",
    "\n",
    "# Read file and preprocess columns (takes ~1.5min)\n",
    "# Only loads the traffic associated with the provided IP address.\n",
    "df = load_data(\"../data/capture20110811.pcap.netflow.labeled\")"
   ]
  },
  {
   "cell_type": "code",
   "execution_count": 4,
   "metadata": {},
   "outputs": [
    {
     "data": {
      "text/html": [
       "<div>\n",
       "<style scoped>\n",
       "    .dataframe tbody tr th:only-of-type {\n",
       "        vertical-align: middle;\n",
       "    }\n",
       "\n",
       "    .dataframe tbody tr th {\n",
       "        vertical-align: top;\n",
       "    }\n",
       "\n",
       "    .dataframe thead th {\n",
       "        text-align: right;\n",
       "    }\n",
       "</style>\n",
       "<table border=\"1\" class=\"dataframe\">\n",
       "  <thead>\n",
       "    <tr style=\"text-align: right;\">\n",
       "      <th></th>\n",
       "      <th>duration</th>\n",
       "      <th>protocol</th>\n",
       "      <th>flags</th>\n",
       "      <th>tos</th>\n",
       "      <th>packets</th>\n",
       "      <th>bytes</th>\n",
       "      <th>flows</th>\n",
       "      <th>label</th>\n",
       "      <th>src_ip</th>\n",
       "      <th>src_port</th>\n",
       "      <th>dest_ip</th>\n",
       "      <th>dest_port</th>\n",
       "    </tr>\n",
       "  </thead>\n",
       "  <tbody>\n",
       "    <tr>\n",
       "      <th>2011-08-11 10:10:00.003</th>\n",
       "      <td>0.967</td>\n",
       "      <td>UDP</td>\n",
       "      <td>INT</td>\n",
       "      <td>0</td>\n",
       "      <td>2</td>\n",
       "      <td>135</td>\n",
       "      <td>1</td>\n",
       "      <td>Background</td>\n",
       "      <td>89.31.8.11</td>\n",
       "      <td>23929</td>\n",
       "      <td>147.32.84.229</td>\n",
       "      <td>13363</td>\n",
       "    </tr>\n",
       "    <tr>\n",
       "      <th>2011-08-11 10:10:00.003</th>\n",
       "      <td>0.967</td>\n",
       "      <td>UDP</td>\n",
       "      <td>INT</td>\n",
       "      <td>0</td>\n",
       "      <td>2</td>\n",
       "      <td>276</td>\n",
       "      <td>1</td>\n",
       "      <td>Background</td>\n",
       "      <td>147.32.84.229</td>\n",
       "      <td>13363</td>\n",
       "      <td>89.31.8.11</td>\n",
       "      <td>23929</td>\n",
       "    </tr>\n",
       "    <tr>\n",
       "      <th>2011-08-11 10:10:00.006</th>\n",
       "      <td>0.000</td>\n",
       "      <td>UDP</td>\n",
       "      <td>INT</td>\n",
       "      <td>0</td>\n",
       "      <td>1</td>\n",
       "      <td>62</td>\n",
       "      <td>1</td>\n",
       "      <td>Background</td>\n",
       "      <td>208.88.186.6</td>\n",
       "      <td>34042</td>\n",
       "      <td>147.32.84.229</td>\n",
       "      <td>13363</td>\n",
       "    </tr>\n",
       "    <tr>\n",
       "      <th>2011-08-11 10:10:00.008</th>\n",
       "      <td>0.000</td>\n",
       "      <td>UDP</td>\n",
       "      <td>INT</td>\n",
       "      <td>0</td>\n",
       "      <td>1</td>\n",
       "      <td>78</td>\n",
       "      <td>1</td>\n",
       "      <td>Background</td>\n",
       "      <td>92.118.218.77</td>\n",
       "      <td>55246</td>\n",
       "      <td>147.32.84.229</td>\n",
       "      <td>13363</td>\n",
       "    </tr>\n",
       "    <tr>\n",
       "      <th>2011-08-11 10:10:00.009</th>\n",
       "      <td>0.000</td>\n",
       "      <td>UDP</td>\n",
       "      <td>INT</td>\n",
       "      <td>0</td>\n",
       "      <td>1</td>\n",
       "      <td>72</td>\n",
       "      <td>1</td>\n",
       "      <td>Background</td>\n",
       "      <td>182.185.139.181</td>\n",
       "      <td>10223</td>\n",
       "      <td>147.32.84.229</td>\n",
       "      <td>13363</td>\n",
       "    </tr>\n",
       "  </tbody>\n",
       "</table>\n",
       "</div>"
      ],
      "text/plain": [
       "                         duration protocol flags  tos  packets  bytes  flows  \\\n",
       "2011-08-11 10:10:00.003     0.967      UDP   INT    0        2    135      1   \n",
       "2011-08-11 10:10:00.003     0.967      UDP   INT    0        2    276      1   \n",
       "2011-08-11 10:10:00.006     0.000      UDP   INT    0        1     62      1   \n",
       "2011-08-11 10:10:00.008     0.000      UDP   INT    0        1     78      1   \n",
       "2011-08-11 10:10:00.009     0.000      UDP   INT    0        1     72      1   \n",
       "\n",
       "                              label           src_ip src_port        dest_ip  \\\n",
       "2011-08-11 10:10:00.003  Background       89.31.8.11    23929  147.32.84.229   \n",
       "2011-08-11 10:10:00.003  Background    147.32.84.229    13363     89.31.8.11   \n",
       "2011-08-11 10:10:00.006  Background     208.88.186.6    34042  147.32.84.229   \n",
       "2011-08-11 10:10:00.008  Background    92.118.218.77    55246  147.32.84.229   \n",
       "2011-08-11 10:10:00.009  Background  182.185.139.181    10223  147.32.84.229   \n",
       "\n",
       "                        dest_port  \n",
       "2011-08-11 10:10:00.003     13363  \n",
       "2011-08-11 10:10:00.003     23929  \n",
       "2011-08-11 10:10:00.006     13363  \n",
       "2011-08-11 10:10:00.008     13363  \n",
       "2011-08-11 10:10:00.009     13363  "
      ]
     },
     "execution_count": 4,
     "metadata": {},
     "output_type": "execute_result"
    }
   ],
   "source": [
    "df.head(5)"
   ]
  },
  {
   "cell_type": "markdown",
   "metadata": {},
   "source": [
    "## Data analysis\n",
    "In this section, we analyze the class properties."
   ]
  },
  {
   "cell_type": "code",
   "execution_count": 5,
   "metadata": {},
   "outputs": [
    {
     "name": "stdout",
     "output_type": "stream",
     "text": [
      "Class imbalance:\n"
     ]
    },
    {
     "data": {
      "text/html": [
       "<div>\n",
       "<style scoped>\n",
       "    .dataframe tbody tr th:only-of-type {\n",
       "        vertical-align: middle;\n",
       "    }\n",
       "\n",
       "    .dataframe tbody tr th {\n",
       "        vertical-align: top;\n",
       "    }\n",
       "\n",
       "    .dataframe thead th {\n",
       "        text-align: right;\n",
       "    }\n",
       "</style>\n",
       "<table border=\"1\" class=\"dataframe\">\n",
       "  <thead>\n",
       "    <tr style=\"text-align: right;\">\n",
       "      <th></th>\n",
       "      <th>label</th>\n",
       "      <th>percentage</th>\n",
       "    </tr>\n",
       "  </thead>\n",
       "  <tbody>\n",
       "    <tr>\n",
       "      <th>LEGITIMATE</th>\n",
       "      <td>225336</td>\n",
       "      <td>80.54</td>\n",
       "    </tr>\n",
       "    <tr>\n",
       "      <th>Botnet</th>\n",
       "      <td>54433</td>\n",
       "      <td>19.46</td>\n",
       "    </tr>\n",
       "  </tbody>\n",
       "</table>\n",
       "</div>"
      ],
      "text/plain": [
       "             label  percentage\n",
       "LEGITIMATE  225336       80.54\n",
       "Botnet       54433       19.46"
      ]
     },
     "metadata": {},
     "output_type": "display_data"
    },
    {
     "data": {
      "image/png": "[encoded data removed]",
      "text/plain": [
       "<Figure size 432x288 with 1 Axes>"
      ]
     },
     "metadata": {
      "needs_background": "light"
     },
     "output_type": "display_data"
    }
   ],
   "source": [
    "plot_imbalance(df, [\"Botnet\", \"LEGITIMATE\"])"
   ]
  },
  {
   "cell_type": "markdown",
   "metadata": {},
   "source": [
    "## Data preprocessing\n",
    "In this section, we remove background data, drop irrelevant columns, convert strings categories to numbers and correct the class imbalance."
   ]
  },
  {
   "cell_type": "code",
   "execution_count": 6,
   "metadata": {},
   "outputs": [
    {
     "name": "stderr",
     "output_type": "stream",
     "text": [
      "C:\\Users\\CodeSupply\\Anaconda3\\lib\\site-packages\\sklearn\\preprocessing\\data.py:625: DataConversionWarning: Data with input dtype uint8, int64, float64 were all converted to float64 by StandardScaler.\n",
      "  return self.partial_fit(X, y)\n",
      "C:\\Users\\CodeSupply\\Anaconda3\\lib\\site-packages\\sklearn\\base.py:462: DataConversionWarning: Data with input dtype uint8, int64, float64 were all converted to float64 by StandardScaler.\n",
      "  return self.fit(X, **fit_params).transform(X)\n"
     ]
    }
   ],
   "source": [
    "X_train, X_test, y_train, y_test = preprocess_df_packets(df)"
   ]
  },
  {
   "cell_type": "markdown",
   "metadata": {},
   "source": [
    "## Classification\n",
    "In this section, we experiment with multiple classifiers."
   ]
  },
  {
   "cell_type": "code",
   "execution_count": 8,
   "metadata": {},
   "outputs": [],
   "source": [
    "classifiers = {\n",
    "#     \"2-Nearest Neighbors\": KNeighborsClassifier(2),\n",
    "#     \"3-Nearest Neighbors\": KNeighborsClassifier(3),\n",
    "#     \"5-Nearest Neighbors\": KNeighborsClassifier(5),\n",
    "    # SVM too slow!\n",
    "    \"Decision Tree\": DecisionTreeClassifier(max_depth=5),\n",
    "    \"Random Forest\": RandomForestClassifier(max_depth=5, n_estimators=10, max_features=1),\n",
    "    \"AdaBoost\": AdaBoostClassifier(),\n",
    "    \"Naive Bayes\": GaussianNB()\n",
    "}"
   ]
  },
  {
   "cell_type": "markdown",
   "metadata": {},
   "source": [
    "### Evaluate classifiers\n",
    "With and without SMOTE."
   ]
  },
  {
   "cell_type": "markdown",
   "metadata": {},
   "source": [
    "Results are also saved in `results_flowclassification_smote_packets.txt`."
   ]
  },
  {
   "cell_type": "code",
   "execution_count": null,
   "metadata": {},
   "outputs": [
    {
     "name": "stdout",
     "output_type": "stream",
     "text": [
      "\n",
      "\n",
      "*****\n",
      "SMOTE: 0.000\n",
      "*****\n",
      "\n",
      "\n"
     ]
    },
    {
     "data": {
      "text/plain": [
       "'Botnet samples: 40839 / 209826'"
      ]
     },
     "metadata": {},
     "output_type": "display_data"
    },
    {
     "name": "stdout",
     "output_type": "stream",
     "text": [
      "\n",
      "\n",
      "Running: DecisionTreeClassifier(class_weight=None, criterion='gini', max_depth=5,\n",
      "            max_features=None, max_leaf_nodes=None,\n",
      "            min_impurity_decrease=0.0, min_impurity_split=None,\n",
      "            min_samples_leaf=1, min_samples_split=2,\n",
      "            min_weight_fraction_leaf=0.0, presort=False, random_state=None,\n",
      "            splitter='best')\n",
      "\n",
      "              precision    recall  f1-score   support\n",
      "\n",
      "  LEGITIMATE       0.94      1.00      0.97     56349\n",
      "      Botnet       0.99      0.72      0.83     13594\n",
      "\n",
      "   micro avg       0.94      0.94      0.94     69943\n",
      "   macro avg       0.96      0.86      0.90     69943\n",
      "weighted avg       0.95      0.94      0.94     69943\n",
      "\n",
      "               LEGITIMATE     Botnet \n",
      "    LEGITIMATE      56205        144 \n",
      "        Botnet       3817       9777 \n",
      "\n",
      "\n",
      "Running: RandomForestClassifier(bootstrap=True, class_weight=None, criterion='gini',\n",
      "            max_depth=5, max_features=1, max_leaf_nodes=None,\n",
      "            min_impurity_decrease=0.0, min_impurity_split=None,\n",
      "            min_samples_leaf=1, min_samples_split=2,\n",
      "            min_weight_fraction_leaf=0.0, n_estimators=10, n_jobs=None,\n",
      "            oob_score=False, random_state=None, verbose=0,\n",
      "            warm_start=False)\n",
      "\n",
      "              precision    recall  f1-score   support\n",
      "\n",
      "  LEGITIMATE       0.81      1.00      0.89     56349\n",
      "      Botnet       0.00      0.00      0.00     13594\n",
      "\n",
      "   micro avg       0.81      0.81      0.81     69943\n",
      "   macro avg       0.40      0.50      0.45     69943\n",
      "weighted avg       0.65      0.81      0.72     69943\n",
      "\n",
      "               LEGITIMATE     Botnet \n",
      "    LEGITIMATE      56349          0 \n",
      "        Botnet      13594          0 \n",
      "\n",
      "\n",
      "Running: AdaBoostClassifier(algorithm='SAMME.R', base_estimator=None,\n",
      "          learning_rate=1.0, n_estimators=50, random_state=None)\n",
      "\n"
     ]
    },
    {
     "name": "stderr",
     "output_type": "stream",
     "text": [
      "C:\\Users\\CodeSupply\\Anaconda3\\lib\\site-packages\\sklearn\\metrics\\classification.py:1143: UndefinedMetricWarning: Precision and F-score are ill-defined and being set to 0.0 in labels with no predicted samples.\n",
      "  'precision', 'predicted', average, warn_for)\n",
      "C:\\Users\\CodeSupply\\Anaconda3\\lib\\site-packages\\sklearn\\metrics\\classification.py:1143: UndefinedMetricWarning: Precision and F-score are ill-defined and being set to 0.0 in labels with no predicted samples.\n",
      "  'precision', 'predicted', average, warn_for)\n",
      "C:\\Users\\CodeSupply\\Anaconda3\\lib\\site-packages\\sklearn\\metrics\\classification.py:1143: UndefinedMetricWarning: Precision and F-score are ill-defined and being set to 0.0 in labels with no predicted samples.\n",
      "  'precision', 'predicted', average, warn_for)\n"
     ]
    },
    {
     "name": "stdout",
     "output_type": "stream",
     "text": [
      "              precision    recall  f1-score   support\n",
      "\n",
      "  LEGITIMATE       0.98      0.99      0.99     56349\n",
      "      Botnet       0.96      0.91      0.94     13594\n",
      "\n",
      "   micro avg       0.98      0.98      0.98     69943\n",
      "   macro avg       0.97      0.95      0.96     69943\n",
      "weighted avg       0.98      0.98      0.98     69943\n",
      "\n",
      "               LEGITIMATE     Botnet \n",
      "    LEGITIMATE      55887        462 \n",
      "        Botnet       1213      12381 \n",
      "\n",
      "\n",
      "Running: GaussianNB(priors=None, var_smoothing=1e-09)\n",
      "\n",
      "              precision    recall  f1-score   support\n",
      "\n",
      "  LEGITIMATE       0.98      0.85      0.91     56349\n",
      "      Botnet       0.60      0.92      0.73     13594\n",
      "\n",
      "   micro avg       0.87      0.87      0.87     69943\n",
      "   macro avg       0.79      0.89      0.82     69943\n",
      "weighted avg       0.91      0.87      0.88     69943\n",
      "\n",
      "               LEGITIMATE     Botnet \n",
      "    LEGITIMATE      48067       8282 \n",
      "        Botnet       1041      12553 \n",
      "\n",
      "\n",
      "*****\n",
      "SMOTE: 0.250\n",
      "*****\n",
      "\n",
      "\n"
     ]
    },
    {
     "data": {
      "text/plain": [
       "'Botnet samples: 42246 / 211233'"
      ]
     },
     "metadata": {},
     "output_type": "display_data"
    },
    {
     "name": "stdout",
     "output_type": "stream",
     "text": [
      "\n",
      "\n",
      "Running: DecisionTreeClassifier(class_weight=None, criterion='gini', max_depth=5,\n",
      "            max_features=None, max_leaf_nodes=None,\n",
      "            min_impurity_decrease=0.0, min_impurity_split=None,\n",
      "            min_samples_leaf=1, min_samples_split=2,\n",
      "            min_weight_fraction_leaf=0.0, presort=False, random_state=None,\n",
      "            splitter='best')\n",
      "\n",
      "              precision    recall  f1-score   support\n",
      "\n",
      "  LEGITIMATE       0.94      1.00      0.97     56349\n",
      "      Botnet       0.99      0.72      0.83     13594\n",
      "\n",
      "   micro avg       0.94      0.94      0.94     69943\n",
      "   macro avg       0.96      0.86      0.90     69943\n",
      "weighted avg       0.95      0.94      0.94     69943\n",
      "\n",
      "               LEGITIMATE     Botnet \n",
      "    LEGITIMATE      56205        144 \n",
      "        Botnet       3817       9777 \n",
      "\n",
      "\n",
      "Running: RandomForestClassifier(bootstrap=True, class_weight=None, criterion='gini',\n",
      "            max_depth=5, max_features=1, max_leaf_nodes=None,\n",
      "            min_impurity_decrease=0.0, min_impurity_split=None,\n",
      "            min_samples_leaf=1, min_samples_split=2,\n",
      "            min_weight_fraction_leaf=0.0, n_estimators=10, n_jobs=None,\n",
      "            oob_score=False, random_state=None, verbose=0,\n",
      "            warm_start=False)\n",
      "\n",
      "              precision    recall  f1-score   support\n",
      "\n",
      "  LEGITIMATE       0.81      1.00      0.89     56349\n",
      "      Botnet       1.00      0.01      0.02     13594\n",
      "\n",
      "   micro avg       0.81      0.81      0.81     69943\n",
      "   macro avg       0.90      0.51      0.46     69943\n",
      "weighted avg       0.84      0.81      0.72     69943\n",
      "\n",
      "               LEGITIMATE     Botnet \n",
      "    LEGITIMATE      56349          0 \n",
      "        Botnet      13428        166 \n",
      "\n",
      "\n",
      "Running: AdaBoostClassifier(algorithm='SAMME.R', base_estimator=None,\n",
      "          learning_rate=1.0, n_estimators=50, random_state=None)\n",
      "\n",
      "              precision    recall  f1-score   support\n",
      "\n",
      "  LEGITIMATE       0.98      0.99      0.99     56349\n",
      "      Botnet       0.96      0.91      0.94     13594\n",
      "\n",
      "   micro avg       0.98      0.98      0.98     69943\n",
      "   macro avg       0.97      0.95      0.96     69943\n",
      "weighted avg       0.98      0.98      0.98     69943\n",
      "\n",
      "               LEGITIMATE     Botnet \n",
      "    LEGITIMATE      55871        478 \n",
      "        Botnet       1175      12419 \n",
      "\n",
      "\n",
      "Running: GaussianNB(priors=None, var_smoothing=1e-09)\n",
      "\n",
      "              precision    recall  f1-score   support\n",
      "\n",
      "  LEGITIMATE       0.98      0.85      0.91     56349\n",
      "      Botnet       0.60      0.92      0.73     13594\n",
      "\n",
      "   micro avg       0.87      0.87      0.87     69943\n",
      "   macro avg       0.79      0.89      0.82     69943\n",
      "weighted avg       0.91      0.87      0.88     69943\n",
      "\n",
      "               LEGITIMATE     Botnet \n",
      "    LEGITIMATE      48073       8276 \n",
      "        Botnet       1041      12553 \n",
      "\n",
      "\n",
      "*****\n",
      "SMOTE: 0.500\n",
      "*****\n",
      "\n",
      "\n"
     ]
    },
    {
     "data": {
      "text/plain": [
       "'Botnet samples: 84493 / 253480'"
      ]
     },
     "metadata": {},
     "output_type": "display_data"
    },
    {
     "name": "stdout",
     "output_type": "stream",
     "text": [
      "\n",
      "\n",
      "Running: DecisionTreeClassifier(class_weight=None, criterion='gini', max_depth=5,\n",
      "            max_features=None, max_leaf_nodes=None,\n",
      "            min_impurity_decrease=0.0, min_impurity_split=None,\n",
      "            min_samples_leaf=1, min_samples_split=2,\n",
      "            min_weight_fraction_leaf=0.0, presort=False, random_state=None,\n",
      "            splitter='best')\n",
      "\n",
      "              precision    recall  f1-score   support\n",
      "\n",
      "  LEGITIMATE       0.98      0.97      0.97     56349\n",
      "      Botnet       0.87      0.91      0.89     13594\n",
      "\n",
      "   micro avg       0.96      0.96      0.96     69943\n",
      "   macro avg       0.92      0.94      0.93     69943\n",
      "weighted avg       0.96      0.96      0.96     69943\n",
      "\n",
      "               LEGITIMATE     Botnet \n",
      "    LEGITIMATE      54469       1880 \n",
      "        Botnet       1188      12406 \n",
      "\n",
      "\n",
      "Running: RandomForestClassifier(bootstrap=True, class_weight=None, criterion='gini',\n",
      "            max_depth=5, max_features=1, max_leaf_nodes=None,\n",
      "            min_impurity_decrease=0.0, min_impurity_split=None,\n",
      "            min_samples_leaf=1, min_samples_split=2,\n",
      "            min_weight_fraction_leaf=0.0, n_estimators=10, n_jobs=None,\n",
      "            oob_score=False, random_state=None, verbose=0,\n",
      "            warm_start=False)\n",
      "\n",
      "              precision    recall  f1-score   support\n",
      "\n",
      "  LEGITIMATE       0.81      1.00      0.89     56349\n",
      "      Botnet       0.97      0.01      0.01     13594\n",
      "\n",
      "   micro avg       0.81      0.81      0.81     69943\n",
      "   macro avg       0.89      0.50      0.45     69943\n",
      "weighted avg       0.84      0.81      0.72     69943\n",
      "\n",
      "               LEGITIMATE     Botnet \n",
      "    LEGITIMATE      56346          3 \n",
      "        Botnet      13499         95 \n",
      "\n",
      "\n",
      "Running: AdaBoostClassifier(algorithm='SAMME.R', base_estimator=None,\n",
      "          learning_rate=1.0, n_estimators=50, random_state=None)\n",
      "\n",
      "              precision    recall  f1-score   support\n",
      "\n",
      "  LEGITIMATE       0.98      0.98      0.98     56349\n",
      "      Botnet       0.92      0.94      0.93     13594\n",
      "\n",
      "   micro avg       0.97      0.97      0.97     69943\n",
      "   macro avg       0.95      0.96      0.96     69943\n",
      "weighted avg       0.97      0.97      0.97     69943\n",
      "\n",
      "               LEGITIMATE     Botnet \n",
      "    LEGITIMATE      55290       1059 \n",
      "        Botnet        855      12739 \n",
      "\n",
      "\n",
      "Running: GaussianNB(priors=None, var_smoothing=1e-09)\n",
      "\n",
      "              precision    recall  f1-score   support\n",
      "\n",
      "  LEGITIMATE       0.98      0.85      0.91     56349\n",
      "      Botnet       0.60      0.92      0.73     13594\n",
      "\n",
      "   micro avg       0.86      0.86      0.86     69943\n",
      "   macro avg       0.79      0.89      0.82     69943\n",
      "weighted avg       0.90      0.86      0.87     69943\n",
      "\n",
      "               LEGITIMATE     Botnet \n",
      "    LEGITIMATE      47921       8428 \n",
      "        Botnet       1041      12553 \n",
      "\n",
      "\n",
      "*****\n",
      "SMOTE: 0.750\n",
      "*****\n",
      "\n",
      "\n"
     ]
    },
    {
     "data": {
      "text/plain": [
       "'Botnet samples: 126740 / 295727'"
      ]
     },
     "metadata": {},
     "output_type": "display_data"
    },
    {
     "name": "stdout",
     "output_type": "stream",
     "text": [
      "\n",
      "\n",
      "Running: DecisionTreeClassifier(class_weight=None, criterion='gini', max_depth=5,\n",
      "            max_features=None, max_leaf_nodes=None,\n",
      "            min_impurity_decrease=0.0, min_impurity_split=None,\n",
      "            min_samples_leaf=1, min_samples_split=2,\n",
      "            min_weight_fraction_leaf=0.0, presort=False, random_state=None,\n",
      "            splitter='best')\n",
      "\n",
      "              precision    recall  f1-score   support\n",
      "\n",
      "  LEGITIMATE       0.98      0.97      0.97     56349\n",
      "      Botnet       0.86      0.91      0.89     13594\n",
      "\n",
      "   micro avg       0.96      0.96      0.96     69943\n",
      "   macro avg       0.92      0.94      0.93     69943\n",
      "weighted avg       0.96      0.96      0.96     69943\n",
      "\n",
      "               LEGITIMATE     Botnet \n",
      "    LEGITIMATE      54409       1940 \n",
      "        Botnet       1202      12392 \n",
      "\n",
      "\n",
      "Running: RandomForestClassifier(bootstrap=True, class_weight=None, criterion='gini',\n",
      "            max_depth=5, max_features=1, max_leaf_nodes=None,\n",
      "            min_impurity_decrease=0.0, min_impurity_split=None,\n",
      "            min_samples_leaf=1, min_samples_split=2,\n",
      "            min_weight_fraction_leaf=0.0, n_estimators=10, n_jobs=None,\n",
      "            oob_score=False, random_state=None, verbose=0,\n",
      "            warm_start=False)\n",
      "\n",
      "              precision    recall  f1-score   support\n",
      "\n",
      "  LEGITIMATE       0.89      0.99      0.94     56349\n",
      "      Botnet       0.95      0.51      0.66     13594\n",
      "\n",
      "   micro avg       0.90      0.90      0.90     69943\n",
      "   macro avg       0.92      0.75      0.80     69943\n",
      "weighted avg       0.90      0.90      0.89     69943\n",
      "\n",
      "               LEGITIMATE     Botnet \n",
      "    LEGITIMATE      55996        353 \n",
      "        Botnet       6706       6888 \n",
      "\n",
      "\n",
      "Running: AdaBoostClassifier(algorithm='SAMME.R', base_estimator=None,\n",
      "          learning_rate=1.0, n_estimators=50, random_state=None)\n",
      "\n",
      "              precision    recall  f1-score   support\n",
      "\n",
      "  LEGITIMATE       0.99      0.97      0.98     56349\n",
      "      Botnet       0.87      0.96      0.92     13594\n",
      "\n",
      "   micro avg       0.97      0.97      0.97     69943\n",
      "   macro avg       0.93      0.96      0.95     69943\n",
      "weighted avg       0.97      0.97      0.97     69943\n",
      "\n",
      "               LEGITIMATE     Botnet \n",
      "    LEGITIMATE      54418       1931 \n",
      "        Botnet        498      13096 \n",
      "\n",
      "\n",
      "Running: GaussianNB(priors=None, var_smoothing=1e-09)\n",
      "\n",
      "              precision    recall  f1-score   support\n",
      "\n",
      "  LEGITIMATE       0.98      0.85      0.91     56349\n",
      "      Botnet       0.60      0.92      0.72     13594\n",
      "\n",
      "   micro avg       0.86      0.86      0.86     69943\n",
      "   macro avg       0.79      0.89      0.82     69943\n",
      "weighted avg       0.90      0.86      0.87     69943\n",
      "\n",
      "               LEGITIMATE     Botnet \n",
      "    LEGITIMATE      47826       8523 \n",
      "        Botnet       1041      12553 \n",
      "\n",
      "\n",
      "*****\n",
      "SMOTE: 1.000\n",
      "*****\n",
      "\n",
      "\n"
     ]
    }
   ],
   "source": [
    "# With SMOTE\n",
    "for smote_ratio in [0, .25, .5, .75, 1]:\n",
    "\n",
    "    print(\"\\n\\n*****\\nSMOTE: %.3f\\n*****\\n\\n\" % smote_ratio, flush=True)\n",
    "    \n",
    "    if smote_ratio > 0:\n",
    "        X, y = SMOTE(sampling_strategy=smote_ratio).fit_resample(X_train, y_train)\n",
    "    else:\n",
    "        X, y = X_train, y_train\n",
    "    \n",
    "    display(\"Botnet samples: %d / %d\" % (np.sum(y), len(y)))\n",
    "    \n",
    "    for name, clf in classifiers.items():\n",
    "\n",
    "        print(\"\\n\\nRunning: %s\\n\" % clf, flush=True)\n",
    "\n",
    "         # Fit classifier\n",
    "        clf.fit(X, y)\n",
    "\n",
    "        # Predict labels for the test set\n",
    "        y_pred = clf.predict(X_test)\n",
    "\n",
    "        # Print performance\n",
    "        print(classification_report(y_test, y_pred, target_names=CLASS_LABEL_LIST), flush=True)\n",
    "        print_cm(confusion_matrix(y_test, y_pred), CLASS_LABEL_LIST)"
   ]
  },
  {
   "cell_type": "code",
   "execution_count": null,
   "metadata": {},
   "outputs": [],
   "source": []
  }
 ],
 "metadata": {
  "kernelspec": {
   "display_name": "Python 3",
   "language": "python",
   "name": "python3"
  },
  "language_info": {
   "codemirror_mode": {
    "name": "ipython",
    "version": 3
   },
   "file_extension": ".py",
   "mimetype": "text/x-python",
   "name": "python",
   "nbconvert_exporter": "python",
   "pygments_lexer": "ipython3",
   "version": "3.7.2"
  }
 },
 "nbformat": 4,
 "nbformat_minor": 2
}
