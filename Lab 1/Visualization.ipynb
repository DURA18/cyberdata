{
 "cells": [
  {
   "cell_type": "code",
   "execution_count": 2,
   "metadata": {},
   "outputs": [],
   "source": [
    "import pandas as pd\n",
    "import numpy as np\n",
    "import matplotlib.pyplot as plt\n",
    "import seaborn as sns\n",
    "%matplotlib inline\n",
    "\n",
    "%load_ext autoreload\n",
    "%autoreload 2\n",
    "\n",
    "from cda_prep import *\n",
    "from cda_util import *\n",
    "from cda_models import *"
   ]
  },
  {
   "cell_type": "code",
   "execution_count": 3,
   "metadata": {},
   "outputs": [],
   "source": [
    "df, df_raw = get_data('data/data_for_student_case.csv')"
   ]
  },
  {
   "cell_type": "code",
   "execution_count": 4,
   "metadata": {},
   "outputs": [
    {
     "name": "stdout",
     "output_type": "stream",
     "text": [
      "Raw dataset:\n"
     ]
    },
    {
     "data": {
      "text/html": [
       "<div>\n",
       "<style scoped>\n",
       "    .dataframe tbody tr th:only-of-type {\n",
       "        vertical-align: middle;\n",
       "    }\n",
       "\n",
       "    .dataframe tbody tr th {\n",
       "        vertical-align: top;\n",
       "    }\n",
       "\n",
       "    .dataframe thead th {\n",
       "        text-align: right;\n",
       "    }\n",
       "</style>\n",
       "<table border=\"1\" class=\"dataframe\">\n",
       "  <thead>\n",
       "    <tr style=\"text-align: right;\">\n",
       "      <th></th>\n",
       "      <th>bookingdate</th>\n",
       "      <th>issuercountrycode</th>\n",
       "      <th>txvariantcode</th>\n",
       "      <th>bin</th>\n",
       "      <th>amount</th>\n",
       "      <th>currencycode</th>\n",
       "      <th>shoppercountrycode</th>\n",
       "      <th>shopperinteraction</th>\n",
       "      <th>cardverificationcodesupplied</th>\n",
       "      <th>cvcresponsecode</th>\n",
       "      <th>creationdate</th>\n",
       "      <th>accountcode</th>\n",
       "      <th>mail_id</th>\n",
       "      <th>ip_id</th>\n",
       "      <th>card_id</th>\n",
       "      <th>labels</th>\n",
       "    </tr>\n",
       "    <tr>\n",
       "      <th>txid</th>\n",
       "      <th></th>\n",
       "      <th></th>\n",
       "      <th></th>\n",
       "      <th></th>\n",
       "      <th></th>\n",
       "      <th></th>\n",
       "      <th></th>\n",
       "      <th></th>\n",
       "      <th></th>\n",
       "      <th></th>\n",
       "      <th></th>\n",
       "      <th></th>\n",
       "      <th></th>\n",
       "      <th></th>\n",
       "      <th></th>\n",
       "      <th></th>\n",
       "    </tr>\n",
       "  </thead>\n",
       "  <tbody>\n",
       "    <tr>\n",
       "      <th>1</th>\n",
       "      <td>2015-11-09 14:26:51</td>\n",
       "      <td>MX</td>\n",
       "      <td>mccredit</td>\n",
       "      <td>530056</td>\n",
       "      <td>64800.0</td>\n",
       "      <td>MXN</td>\n",
       "      <td>MX</td>\n",
       "      <td>Ecommerce</td>\n",
       "      <td>True</td>\n",
       "      <td>0</td>\n",
       "      <td>2015-07-01 23:03:11</td>\n",
       "      <td>MexicoAccount</td>\n",
       "      <td>email68370</td>\n",
       "      <td>ip111778</td>\n",
       "      <td>card184798</td>\n",
       "      <td>1.0</td>\n",
       "    </tr>\n",
       "    <tr>\n",
       "      <th>2</th>\n",
       "      <td>2015-11-09 14:27:38</td>\n",
       "      <td>MX</td>\n",
       "      <td>mccredit</td>\n",
       "      <td>547046</td>\n",
       "      <td>44900.0</td>\n",
       "      <td>MXN</td>\n",
       "      <td>MX</td>\n",
       "      <td>Ecommerce</td>\n",
       "      <td>True</td>\n",
       "      <td>0</td>\n",
       "      <td>2015-07-02 04:50:55</td>\n",
       "      <td>MexicoAccount</td>\n",
       "      <td>email101299</td>\n",
       "      <td>ip78749</td>\n",
       "      <td>card151595</td>\n",
       "      <td>1.0</td>\n",
       "    </tr>\n",
       "    <tr>\n",
       "      <th>3</th>\n",
       "      <td>2015-11-23 16:34:16</td>\n",
       "      <td>MX</td>\n",
       "      <td>mccredit</td>\n",
       "      <td>528843</td>\n",
       "      <td>149900.0</td>\n",
       "      <td>MXN</td>\n",
       "      <td>MX</td>\n",
       "      <td>Ecommerce</td>\n",
       "      <td>True</td>\n",
       "      <td>0</td>\n",
       "      <td>2015-07-02 14:30:28</td>\n",
       "      <td>MexicoAccount</td>\n",
       "      <td>email278604</td>\n",
       "      <td>ip70594</td>\n",
       "      <td>card242142</td>\n",
       "      <td>1.0</td>\n",
       "    </tr>\n",
       "  </tbody>\n",
       "</table>\n",
       "</div>"
      ],
      "text/plain": [
       "             bookingdate issuercountrycode txvariantcode     bin    amount  \\\n",
       "txid                                                                         \n",
       "1    2015-11-09 14:26:51                MX      mccredit  530056   64800.0   \n",
       "2    2015-11-09 14:27:38                MX      mccredit  547046   44900.0   \n",
       "3    2015-11-23 16:34:16                MX      mccredit  528843  149900.0   \n",
       "\n",
       "     currencycode shoppercountrycode shopperinteraction  \\\n",
       "txid                                                      \n",
       "1             MXN                 MX          Ecommerce   \n",
       "2             MXN                 MX          Ecommerce   \n",
       "3             MXN                 MX          Ecommerce   \n",
       "\n",
       "     cardverificationcodesupplied  cvcresponsecode        creationdate  \\\n",
       "txid                                                                     \n",
       "1                            True                0 2015-07-01 23:03:11   \n",
       "2                            True                0 2015-07-02 04:50:55   \n",
       "3                            True                0 2015-07-02 14:30:28   \n",
       "\n",
       "        accountcode      mail_id     ip_id     card_id  labels  \n",
       "txid                                                            \n",
       "1     MexicoAccount   email68370  ip111778  card184798     1.0  \n",
       "2     MexicoAccount  email101299   ip78749  card151595     1.0  \n",
       "3     MexicoAccount  email278604   ip70594  card242142     1.0  "
      ]
     },
     "metadata": {},
     "output_type": "display_data"
    },
    {
     "name": "stdout",
     "output_type": "stream",
     "text": [
      "Processed dataset:\n"
     ]
    },
    {
     "data": {
      "text/html": [
       "<div>\n",
       "<style scoped>\n",
       "    .dataframe tbody tr th:only-of-type {\n",
       "        vertical-align: middle;\n",
       "    }\n",
       "\n",
       "    .dataframe tbody tr th {\n",
       "        vertical-align: top;\n",
       "    }\n",
       "\n",
       "    .dataframe thead th {\n",
       "        text-align: right;\n",
       "    }\n",
       "</style>\n",
       "<table border=\"1\" class=\"dataframe\">\n",
       "  <thead>\n",
       "    <tr style=\"text-align: right;\">\n",
       "      <th></th>\n",
       "      <th>bookingdate</th>\n",
       "      <th>issuercountrycode</th>\n",
       "      <th>txvariantcode</th>\n",
       "      <th>bin</th>\n",
       "      <th>amount</th>\n",
       "      <th>currencycode</th>\n",
       "      <th>shoppercountrycode</th>\n",
       "      <th>shopperinteraction</th>\n",
       "      <th>cardverificationcodesupplied</th>\n",
       "      <th>cvcresponsecode</th>\n",
       "      <th>creationdate</th>\n",
       "      <th>accountcode</th>\n",
       "      <th>mail_id</th>\n",
       "      <th>ip_id</th>\n",
       "      <th>card_id</th>\n",
       "      <th>labels</th>\n",
       "      <th>amount_dollar</th>\n",
       "    </tr>\n",
       "    <tr>\n",
       "      <th>txid</th>\n",
       "      <th></th>\n",
       "      <th></th>\n",
       "      <th></th>\n",
       "      <th></th>\n",
       "      <th></th>\n",
       "      <th></th>\n",
       "      <th></th>\n",
       "      <th></th>\n",
       "      <th></th>\n",
       "      <th></th>\n",
       "      <th></th>\n",
       "      <th></th>\n",
       "      <th></th>\n",
       "      <th></th>\n",
       "      <th></th>\n",
       "      <th></th>\n",
       "      <th></th>\n",
       "    </tr>\n",
       "  </thead>\n",
       "  <tbody>\n",
       "    <tr>\n",
       "      <th>1</th>\n",
       "      <td>2015-11-09 14:26:51</td>\n",
       "      <td>76</td>\n",
       "      <td>2</td>\n",
       "      <td>530056</td>\n",
       "      <td>64800.0</td>\n",
       "      <td>2</td>\n",
       "      <td>98</td>\n",
       "      <td>1</td>\n",
       "      <td>1</td>\n",
       "      <td>0</td>\n",
       "      <td>2015-07-01 23:03:11</td>\n",
       "      <td>1</td>\n",
       "      <td>187702</td>\n",
       "      <td>7386</td>\n",
       "      <td>73358</td>\n",
       "      <td>1.0</td>\n",
       "      <td>4122.137405</td>\n",
       "    </tr>\n",
       "    <tr>\n",
       "      <th>2</th>\n",
       "      <td>2015-11-09 14:27:38</td>\n",
       "      <td>76</td>\n",
       "      <td>2</td>\n",
       "      <td>547046</td>\n",
       "      <td>44900.0</td>\n",
       "      <td>2</td>\n",
       "      <td>98</td>\n",
       "      <td>1</td>\n",
       "      <td>1</td>\n",
       "      <td>0</td>\n",
       "      <td>2015-07-02 04:50:55</td>\n",
       "      <td>1</td>\n",
       "      <td>834</td>\n",
       "      <td>194109</td>\n",
       "      <td>44739</td>\n",
       "      <td>1.0</td>\n",
       "      <td>2837.824840</td>\n",
       "    </tr>\n",
       "    <tr>\n",
       "      <th>3</th>\n",
       "      <td>2015-11-23 16:34:16</td>\n",
       "      <td>76</td>\n",
       "      <td>2</td>\n",
       "      <td>528843</td>\n",
       "      <td>149900.0</td>\n",
       "      <td>2</td>\n",
       "      <td>98</td>\n",
       "      <td>1</td>\n",
       "      <td>1</td>\n",
       "      <td>0</td>\n",
       "      <td>2015-07-02 14:30:28</td>\n",
       "      <td>1</td>\n",
       "      <td>119287</td>\n",
       "      <td>189655</td>\n",
       "      <td>122802</td>\n",
       "      <td>1.0</td>\n",
       "      <td>9474.163554</td>\n",
       "    </tr>\n",
       "  </tbody>\n",
       "</table>\n",
       "</div>"
      ],
      "text/plain": [
       "             bookingdate  issuercountrycode  txvariantcode     bin    amount  \\\n",
       "txid                                                                           \n",
       "1    2015-11-09 14:26:51                 76              2  530056   64800.0   \n",
       "2    2015-11-09 14:27:38                 76              2  547046   44900.0   \n",
       "3    2015-11-23 16:34:16                 76              2  528843  149900.0   \n",
       "\n",
       "      currencycode  shoppercountrycode  shopperinteraction  \\\n",
       "txid                                                         \n",
       "1                2                  98                   1   \n",
       "2                2                  98                   1   \n",
       "3                2                  98                   1   \n",
       "\n",
       "      cardverificationcodesupplied  cvcresponsecode        creationdate  \\\n",
       "txid                                                                      \n",
       "1                                1                0 2015-07-01 23:03:11   \n",
       "2                                1                0 2015-07-02 04:50:55   \n",
       "3                                1                0 2015-07-02 14:30:28   \n",
       "\n",
       "      accountcode  mail_id   ip_id  card_id  labels  amount_dollar  \n",
       "txid                                                                \n",
       "1               1   187702    7386    73358     1.0    4122.137405  \n",
       "2               1      834  194109    44739     1.0    2837.824840  \n",
       "3               1   119287  189655   122802     1.0    9474.163554  "
      ]
     },
     "metadata": {},
     "output_type": "display_data"
    }
   ],
   "source": [
    "print(\"Raw dataset:\")\n",
    "display(df_raw.head(3))\n",
    "\n",
    "print(\"Processed dataset:\")\n",
    "display(df.head(3))"
   ]
  },
  {
   "cell_type": "code",
   "execution_count": null,
   "metadata": {},
   "outputs": [],
   "source": [
    "# Class imbalance\n",
    "\n",
    "# Time series\n",
    "\n",
    "# High risk days?\n",
    "\n",
    "# Monetary value\n",
    "\n",
    "# Correlation heatmap\n",
    "\n",
    "# t-SNE for visualization?\n",
    "\n",
    "# issuercountrycode != shoppercountrycode != currencycode"
   ]
  },
  {
   "cell_type": "markdown",
   "metadata": {},
   "source": [
    "# Correlation"
   ]
  },
  {
   "cell_type": "code",
   "execution_count": 15,
   "metadata": {},
   "outputs": [],
   "source": [
    "df_bad  = df_raw[df_raw[\"labels\"] == 1.0]\n",
    "df_good = df_raw[df_raw[\"labels\"] == 0.0]"
   ]
  },
  {
   "cell_type": "code",
   "execution_count": 28,
   "metadata": {},
   "outputs": [
    {
     "data": {
      "text/html": [
       "<div>\n",
       "<style scoped>\n",
       "    .dataframe tbody tr th:only-of-type {\n",
       "        vertical-align: middle;\n",
       "    }\n",
       "\n",
       "    .dataframe tbody tr th {\n",
       "        vertical-align: top;\n",
       "    }\n",
       "\n",
       "    .dataframe thead th {\n",
       "        text-align: right;\n",
       "    }\n",
       "</style>\n",
       "<table border=\"1\" class=\"dataframe\">\n",
       "  <thead>\n",
       "    <tr style=\"text-align: right;\">\n",
       "      <th></th>\n",
       "      <th>bin</th>\n",
       "      <th>amount</th>\n",
       "      <th>cvcresponsecode</th>\n",
       "      <th>labels</th>\n",
       "    </tr>\n",
       "  </thead>\n",
       "  <tbody>\n",
       "    <tr>\n",
       "      <th>bin</th>\n",
       "      <td>1.000000</td>\n",
       "      <td>0.156596</td>\n",
       "      <td>-0.072821</td>\n",
       "      <td>0.013788</td>\n",
       "    </tr>\n",
       "    <tr>\n",
       "      <th>amount</th>\n",
       "      <td>0.156596</td>\n",
       "      <td>1.000000</td>\n",
       "      <td>-0.223868</td>\n",
       "      <td>0.078828</td>\n",
       "    </tr>\n",
       "    <tr>\n",
       "      <th>cvcresponsecode</th>\n",
       "      <td>-0.072821</td>\n",
       "      <td>-0.223868</td>\n",
       "      <td>1.000000</td>\n",
       "      <td>-0.067118</td>\n",
       "    </tr>\n",
       "    <tr>\n",
       "      <th>labels</th>\n",
       "      <td>0.013788</td>\n",
       "      <td>0.078828</td>\n",
       "      <td>-0.067118</td>\n",
       "      <td>1.000000</td>\n",
       "    </tr>\n",
       "  </tbody>\n",
       "</table>\n",
       "</div>"
      ],
      "text/plain": [
       "                      bin    amount  cvcresponsecode    labels\n",
       "bin              1.000000  0.156596        -0.072821  0.013788\n",
       "amount           0.156596  1.000000        -0.223868  0.078828\n",
       "cvcresponsecode -0.072821 -0.223868         1.000000 -0.067118\n",
       "labels           0.013788  0.078828        -0.067118  1.000000"
      ]
     },
     "execution_count": 28,
     "metadata": {},
     "output_type": "execute_result"
    }
   ],
   "source": [
    "df_raw.corr()"
   ]
  },
  {
   "cell_type": "code",
   "execution_count": 21,
   "metadata": {},
   "outputs": [
    {
     "data": {
      "text/plain": [
       "<matplotlib.axes._subplots.AxesSubplot at 0x2bf94bebbe0>"
      ]
     },
     "execution_count": 21,
     "metadata": {},
     "output_type": "execute_result"
    },
    {
     "data": {
      "image/png": "[encoded data removed]",
      "text/plain": [
       "<Figure size 432x288 with 1 Axes>"
      ]
     },
     "metadata": {
      "needs_background": "light"
     },
     "output_type": "display_data"
    }
   ],
   "source": [
    "# df_contauth = df_raw[df_raw['shopperinteraction'] == 'ContAuth']\n",
    "df_raw.groupby(['shopperinteraction', 'labels']).size().unstack().plot.bar()"
   ]
  },
  {
   "cell_type": "code",
   "execution_count": 23,
   "metadata": {},
   "outputs": [
    {
     "data": {
      "text/plain": [
       "<matplotlib.axes._subplots.AxesSubplot at 0x2bf94bfb9b0>"
      ]
     },
     "execution_count": 23,
     "metadata": {},
     "output_type": "execute_result"
    },
    {
     "data": {
      "image/png": "[encoded data removed]",
      "text/plain": [
       "<Figure size 432x288 with 1 Axes>"
      ]
     },
     "metadata": {
      "needs_background": "light"
     },
     "output_type": "display_data"
    }
   ],
   "source": [
    "df_raw[df_raw['shopperinteraction'] == 'ContAuth'].groupby('labels').size().plot.bar()"
   ]
  },
  {
   "cell_type": "code",
   "execution_count": 24,
   "metadata": {},
   "outputs": [
    {
     "data": {
      "text/plain": [
       "shopperinteraction  labels\n",
       "ContAuth            0.0         6890\n",
       "                    1.0           24\n",
       "Ecommerce           0.0       229463\n",
       "                    1.0          321\n",
       "POS                 0.0          338\n",
       "dtype: int64"
      ]
     },
     "execution_count": 24,
     "metadata": {},
     "output_type": "execute_result"
    }
   ],
   "source": [
    "df_raw.groupby(['shopperinteraction', 'labels']).size()"
   ]
  },
  {
   "cell_type": "markdown",
   "metadata": {},
   "source": [
    "### how many ContAuth(ShopperInteraction) things are actually fraud (suspect very little)"
   ]
  },
  {
   "cell_type": "code",
   "execution_count": 17,
   "metadata": {},
   "outputs": [
    {
     "data": {
      "text/plain": [
       "ContAuth       6890\n",
       "Ecommerce    229463\n",
       "POS             338\n",
       "Name: shopperinteraction, dtype: int64"
      ]
     },
     "metadata": {},
     "output_type": "display_data"
    },
    {
     "data": {
      "text/plain": [
       "ContAuth      24\n",
       "Ecommerce    321\n",
       "Name: shopperinteraction, dtype: int64"
      ]
     },
     "metadata": {},
     "output_type": "display_data"
    },
    {
     "ename": "RuntimeError",
     "evalue": "No active exception to reraise",
     "output_type": "error",
     "traceback": [
      "\u001b[1;31m---------------------------------------------------------------------------\u001b[0m",
      "\u001b[1;31mRuntimeError\u001b[0m                              Traceback (most recent call last)",
      "\u001b[1;32m<ipython-input-17-66695c637677>\u001b[0m in \u001b[0;36m<module>\u001b[1;34m\u001b[0m\n\u001b[0;32m      6\u001b[0m \u001b[1;33m\u001b[0m\u001b[0m\n\u001b[0;32m      7\u001b[0m \u001b[1;33m\u001b[0m\u001b[0m\n\u001b[1;32m----> 8\u001b[1;33m \u001b[1;32mraise\u001b[0m\u001b[1;33m\u001b[0m\u001b[1;33m\u001b[0m\u001b[0m\n\u001b[0m\u001b[0;32m      9\u001b[0m \u001b[0mindexes\u001b[0m \u001b[1;33m=\u001b[0m \u001b[0mfraud_issuer_country_count\u001b[0m\u001b[1;33m.\u001b[0m\u001b[0mindex\u001b[0m\u001b[1;33m.\u001b[0m\u001b[0mintersection\u001b[0m\u001b[1;33m(\u001b[0m\u001b[0mbenign_issuer_country_count\u001b[0m\u001b[1;33m.\u001b[0m\u001b[0mindex\u001b[0m\u001b[1;33m)\u001b[0m\u001b[1;33m\u001b[0m\u001b[1;33m\u001b[0m\u001b[0m\n\u001b[0;32m     10\u001b[0m \u001b[0mbenign_issuer_country_count\u001b[0m \u001b[1;33m=\u001b[0m \u001b[0mbenign_issuer_country_count\u001b[0m\u001b[1;33m.\u001b[0m\u001b[0mloc\u001b[0m\u001b[1;33m[\u001b[0m\u001b[0mindexes\u001b[0m\u001b[1;33m]\u001b[0m\u001b[1;33m\u001b[0m\u001b[1;33m\u001b[0m\u001b[0m\n",
      "\u001b[1;31mRuntimeError\u001b[0m: No active exception to reraise"
     ]
    }
   ],
   "source": [
    "good_shop = df_good['shopperinteraction'].value_counts().sort_index()\n",
    "bad_shop  = df_bad['shopperinteraction'].value_counts().sort_index()\n",
    "\n",
    "display(good_shop.head())\n",
    "display(bad_shop.head())\n",
    "\n",
    "\n",
    "raise\n",
    "indexes = fraud_issuer_country_count.index.intersection(benign_issuer_country_count.index)\n",
    "benign_issuer_country_count = benign_issuer_country_count.loc[indexes]\n",
    "\n",
    "norm_benign_issuer_country_count = benign_issuer_country_count / benign_issuer_country_count.sum()\n",
    "norm_fraud_issuer_country_count = fraud_issuer_country_count / fraud_issuer_country_count.sum()\n",
    "\n",
    "fig = plt.figure()\n",
    "ax = fig.add_subplot(111)  # Create matplotlib axes\n",
    "\n",
    "x_width = 0.4\n",
    "\n",
    "norm_fraud_issuer_country_count.plot(kind='bar', color='red', ax=ax, width=x_width, position=1, label='Fraud', legend=True)\n",
    "norm_benign_issuer_country_count.plot(kind='bar', color='blue', ax=ax, width=x_width, position=0, label='Benign', legend=True)\n",
    "\n",
    "plt.xlabel('issuer country code')\n",
    "plt.ylabel('Percentage of transactions')\n",
    "\n",
    "plt.show()"
   ]
  },
  {
   "cell_type": "code",
   "execution_count": 5,
   "metadata": {},
   "outputs": [],
   "source": [
    "### plot the relative rates of chargebacks when looking at the different card issuers, do fraudsters have a preference?\n",
    "### Plot in some way (heatmap?) how many fraudulent interactions happen respective to normal interactions, both for issuercountry and shoppercountry\n",
    "### Way higher rate of chargebacks when response to CVC/CVV2 validation is unknown vs match or others\n",
    "### relative rate of chargebacks compared to cardtype, MC has more than visa, particularly debit"
   ]
  },
  {
   "cell_type": "code",
   "execution_count": null,
   "metadata": {},
   "outputs": [],
   "source": []
  }
 ],
 "metadata": {
  "kernelspec": {
   "display_name": "Python 3",
   "language": "python",
   "name": "python3"
  },
  "language_info": {
   "codemirror_mode": {
    "name": "ipython",
    "version": 3
   },
   "file_extension": ".py",
   "mimetype": "text/x-python",
   "name": "python",
   "nbconvert_exporter": "python",
   "pygments_lexer": "ipython3",
   "version": "3.7.2"
  }
 },
 "nbformat": 4,
 "nbformat_minor": 2
}
