{
 "cells": [
  {
   "cell_type": "markdown",
   "metadata": {},
   "source": [
    "# Task 4.2: PCA Model"
   ]
  },
  {
   "cell_type": "code",
   "execution_count": 1,
   "metadata": {},
   "outputs": [],
   "source": [
    "%load_ext autoreload\n",
    "%autoreload 2"
   ]
  },
  {
   "cell_type": "code",
   "execution_count": 98,
   "metadata": {},
   "outputs": [],
   "source": [
    "import pandas as pd\n",
    "from helper import *\n",
    "import warnings\n",
    "import itertools\n",
    "from sklearn.exceptions import DataConversionWarning\n",
    "warnings.filterwarnings(action='ignore', category=DataConversionWarning)"
   ]
  },
  {
   "cell_type": "markdown",
   "metadata": {},
   "source": [
    "### Load data"
   ]
  },
  {
   "cell_type": "code",
   "execution_count": 3,
   "metadata": {},
   "outputs": [],
   "source": [
    "# Training data\n",
    "X_train_raw, y_train = load_dataset(\"../data/training1_no_incidents.csv\")\n",
    "\n",
    "# Optimization data\n",
    "X_optim_raw, y_optim = load_dataset(\"../data/training2_with_incidents.csv\")\n",
    "\n",
    "# Test data\n",
    "X_test_raw, _        = load_dataset(\"../data/test.csv\", has_labels=False)\n",
    "y_test               = get_test_labels(X_test_raw.index)\n",
    "\n",
    "# Select sensors to consider\n",
    "sensors = X_train_raw.columns\n",
    "\n",
    "# Fit scaler on training data\n",
    "scaler  = preprocessing.StandardScaler()\n",
    "scaler.fit(X_train_raw[sensors])\n",
    "\n",
    "# Scale datasets\n",
    "X_train = scaler.transform(X_train_raw[sensors])\n",
    "X_optim = scaler.transform(X_optim_raw[sensors])\n",
    "X_test  = scaler.transform(X_test_raw[sensors])"
   ]
  },
  {
   "cell_type": "markdown",
   "metadata": {},
   "source": [
    "### Remove outliers from training data\n",
    "See `4.1 - PCA Analysis` for the threshold justification."
   ]
  },
  {
   "cell_type": "code",
   "execution_count": 4,
   "metadata": {},
   "outputs": [],
   "source": [
    "threshold = .01"
   ]
  },
  {
   "cell_type": "code",
   "execution_count": 5,
   "metadata": {},
   "outputs": [],
   "source": [
    "# Find outliers\n",
    "_, _, residuals, _ = pca_model(X_train, X_train_raw.index, n_components=len(sensors))\n",
    "outliers = residuals[residuals > threshold]"
   ]
  },
  {
   "cell_type": "code",
   "execution_count": 6,
   "metadata": {},
   "outputs": [],
   "source": [
    "# Remove outliers\n",
    "X_train_raw.drop(outliers.index, inplace=True)\n",
    "y_train.drop(outliers.index, inplace=True)\n",
    "\n",
    "# Rescale to unit variance\n",
    "X_train = scaler.transform(X_train_raw[sensors])"
   ]
  },
  {
   "cell_type": "markdown",
   "metadata": {},
   "source": [
    "### Optimze PCA model (train on training 1, optimize parameters on training 2)  "
   ]
  },
  {
   "cell_type": "code",
   "execution_count": 243,
   "metadata": {},
   "outputs": [],
   "source": [
    "# Define search grid\n",
    "n_pca = range(10,40,2)\n",
    "thresholds = [0.0002, 0.0005, .001, .002]\n",
    "\n",
    "grid = list(itertools.product(n_pca, thresholds))\n",
    "grid_search_results = {}\n",
    "models = {}"
   ]
  },
  {
   "cell_type": "code",
   "execution_count": 244,
   "metadata": {},
   "outputs": [
    {
     "name": "stdout",
     "output_type": "stream",
     "text": [
      "Wall time: 4.09 s\n"
     ]
    }
   ],
   "source": [
    "%%time\n",
    "\n",
    "for n_components, thresh in grid:\n",
    "    \n",
    "    # Fit model to training data\n",
    "    model, _, _,_ = pca_model(X_train, X_train_raw.index, n_components=n_components)\n",
    "    \n",
    "    # Transform optimization data\n",
    "    _, residuals = pca_pretrained(model, X_optim, X_optim_raw.index)\n",
    "    \n",
    "    # Find outliers\n",
    "    outliers = residuals[residuals > thresh]\n",
    "    predictions = pd.Series(0, y_optim.index)\n",
    "    predictions[outliers.index] = 1\n",
    "    \n",
    "    # Score model and save\n",
    "    grid_search_results[(n_components, thresh)] = score(y_optim, predictions)\n",
    "    models[(n_components, thresh)] = model"
   ]
  },
  {
   "cell_type": "code",
   "execution_count": 245,
   "metadata": {},
   "outputs": [
    {
     "name": "stdout",
     "output_type": "stream",
     "text": [
      "======================================================\n",
      " n-PCA   Thres.   |  Prec.   Recall  F1     \n",
      "======================================================\n",
      " 10      0.0002   |  0.0664  0.9635  0.1242 \n",
      " 10      0.0005   |  0.1466  0.7854  0.2471 \n",
      " 12      0.0002   |  0.1752  0.7169  0.2816 \n",
      "\n",
      "Best:\n",
      " 12      0.0002   |  0.1752  0.7169  0.2816 \n"
     ]
    }
   ],
   "source": [
    "best_conf = False\n",
    "best_f1 = 0\n",
    "\n",
    "print('='*54)\n",
    "print(' {:7s} {:7s}  |  {:7} {:7} {:7}'.format('n-PCA', 'Thres.', 'Prec.', 'Recall', 'F1'))\n",
    "print('='*54)\n",
    "\n",
    "# Sort grid search results on recall and display top 25 options\n",
    "for conf in sorted(grid_search_results, key=lambda x: grid_search_results[x][1], reverse=True):\n",
    "        \n",
    "    # Minimum .5 recall\n",
    "    if grid_search_results[conf][1] < .5: continue\n",
    "        \n",
    "    # Select model with highest f1-score\n",
    "    if grid_search_results[conf][2] > best_f1: best_conf = conf\n",
    "        \n",
    "    print(' {:<7d} {:<7.4f}  |  {:<7.4f} {:<7.4f} {:<7.4f}'.format(*conf, *grid_search_results[conf]))\n",
    "\n",
    "print('\\nBest:')\n",
    "print(' {:<7d} {:<7.4f}  |  {:<7.4f} {:<7.4f} {:<7.4f}'.format(*best_conf, *grid_search_results[best_conf]))"
   ]
  },
  {
   "cell_type": "markdown",
   "metadata": {},
   "source": [
    "### Evaluate model"
   ]
  },
  {
   "cell_type": "code",
   "execution_count": 246,
   "metadata": {},
   "outputs": [
    {
     "name": "stdout",
     "output_type": "stream",
     "text": [
      "Prec.   Recall  F1     \n",
      "0.9548  0.4152  0.5788 \n"
     ]
    }
   ],
   "source": [
    "# Get best model\n",
    "_, test_threshold = best_conf\n",
    "test_model = models[best_conf]\n",
    "\n",
    "# Reconstruct unseen data with pretrained model\n",
    "_, test_residuals = pca_pretrained(test_model, X_test, X_test_raw.index)\n",
    "\n",
    "# Find outliers\n",
    "test_outliers = test_residuals[test_residuals > test_threshold]\n",
    "test_predictions = pd.Series(0, y_test.index)\n",
    "test_predictions[test_outliers.index] = 1\n",
    "\n",
    "# Get scores\n",
    "scores = score(y_test, test_predictions)\n",
    "\n",
    "# Print results\n",
    "print('{:7} {:7} {:7}'.format('Prec.', 'Recall', 'F1'))\n",
    "print('{:<7.4f} {:<7.4f} {:<7.4f}'.format(*scores))"
   ]
  },
  {
   "cell_type": "code",
   "execution_count": 247,
   "metadata": {},
   "outputs": [
    {
     "data": {
      "image/png": "[encoded data removed]",
      "text/plain": [
       "<Figure size 720x144 with 1 Axes>"
      ]
     },
     "metadata": {
      "needs_background": "light"
     },
     "output_type": "display_data"
    }
   ],
   "source": [
    "attacks = pd.DataFrame()\n",
    "attacks['True'] = y_test\n",
    "attacks['Predicted'] = test_predictions\n",
    "\n",
    "plot_attacks(attacks, save=\"output/pca_prediction.pdf\")"
   ]
  }
 ],
 "metadata": {
  "kernelspec": {
   "display_name": "Python 3",
   "language": "python",
   "name": "python3"
  },
  "language_info": {
   "codemirror_mode": {
    "name": "ipython",
    "version": 3
   },
   "file_extension": ".py",
   "mimetype": "text/x-python",
   "name": "python",
   "nbconvert_exporter": "python",
   "pygments_lexer": "ipython3",
   "version": "3.7.2"
  }
 },
 "nbformat": 4,
 "nbformat_minor": 2
}
