{
 "cells": [
  {
   "cell_type": "markdown",
   "metadata": {},
   "source": [
    "# Task 3.2: Anomaly Detection"
   ]
  },
  {
   "cell_type": "code",
   "execution_count": 1,
   "metadata": {},
   "outputs": [],
   "source": [
    "%load_ext autoreload\n",
    "%autoreload 2"
   ]
  },
  {
   "cell_type": "code",
   "execution_count": 2,
   "metadata": {},
   "outputs": [],
   "source": [
    "import pandas as pd\n",
    "import itertools\n",
    "from collections import OrderedDict\n",
    "from helper import *"
   ]
  },
  {
   "cell_type": "markdown",
   "metadata": {},
   "source": [
    "### Load data"
   ]
  },
  {
   "cell_type": "code",
   "execution_count": 54,
   "metadata": {},
   "outputs": [],
   "source": [
    "X_train, y_train = load_dataset(\"../data/training2_with_incidents.csv\")\n",
    "X_test, y_test        = load_dataset(\"../data/training2_with_incidents.csv\") # TODO: for testing purposes only!"
   ]
  },
  {
   "cell_type": "markdown",
   "metadata": {},
   "source": [
    "### Define sensors to consider"
   ]
  },
  {
   "cell_type": "code",
   "execution_count": 55,
   "metadata": {},
   "outputs": [],
   "source": [
    "features = ['L_T1','L_T2','L_T3','L_T4','L_T5','L_T6','L_T7',\n",
    "            'F_PU1','S_PU1','F_PU2','S_PU2','F_PU3','S_PU3','F_PU4','S_PU4','F_PU5','S_PU5','F_PU6','S_PU6','F_PU7','S_PU7','F_PU8','S_PU8','F_PU9','S_PU9','F_PU10','S_PU10','F_PU11','S_PU11',\n",
    "            'F_V2','S_V2',\n",
    "            'P_J280','P_J269','P_J300','P_J256','P_J289','P_J415','P_J302','P_J306','P_J307','P_J317','P_J14','P_J422']"
   ]
  },
  {
   "cell_type": "markdown",
   "metadata": {},
   "source": [
    "### Optimize parameters on training set"
   ]
  },
  {
   "cell_type": "code",
   "execution_count": 56,
   "metadata": {},
   "outputs": [],
   "source": [
    "# Grid search parameters\n",
    "paa_window_size = range(3,10)\n",
    "sax_alphab_size = range(3,6)\n",
    "ngram_length = [3]\n",
    "thresholds = [.001, .002, 0.003, .01]\n",
    "\n",
    "grid = list(itertools.product(paa_window_size, sax_alphab_size, ngram_length, thresholds))\n",
    "grid_search_results = {}"
   ]
  },
  {
   "cell_type": "code",
   "execution_count": 57,
   "metadata": {},
   "outputs": [
    {
     "ename": "KeyboardInterrupt",
     "evalue": "",
     "output_type": "error",
     "traceback": [
      "\u001b[1;31m---------------------------------------------------------------------------\u001b[0m",
      "\u001b[1;31mKeyboardInterrupt\u001b[0m                         Traceback (most recent call last)",
      "\u001b[1;32m<timed exec>\u001b[0m in \u001b[0;36m<module>\u001b[1;34m\u001b[0m\n",
      "\u001b[1;32m~\\Documents\\TU Delft\\Master\\CS4035 - Cyber Data Analytics\\Lab\\Lab 2\\3. Discretization\\helper.py\u001b[0m in \u001b[0;36mdetect\u001b[1;34m(X, paa, sax, ngram, threshold)\u001b[0m\n\u001b[0;32m    150\u001b[0m \u001b[1;33m\u001b[0m\u001b[0m\n\u001b[0;32m    151\u001b[0m         \u001b[1;31m# Discretize training data\u001b[0m\u001b[1;33m\u001b[0m\u001b[1;33m\u001b[0m\u001b[1;33m\u001b[0m\u001b[0m\n\u001b[1;32m--> 152\u001b[1;33m         \u001b[0mX_discr_train\u001b[0m\u001b[1;33m,\u001b[0m \u001b[0m_\u001b[0m \u001b[1;33m=\u001b[0m \u001b[0mdiscretize_series\u001b[0m\u001b[1;33m(\u001b[0m\u001b[0mX\u001b[0m\u001b[1;33m[\u001b[0m\u001b[0msensor\u001b[0m\u001b[1;33m]\u001b[0m\u001b[1;33m,\u001b[0m \u001b[0mn_sax_symbols\u001b[0m\u001b[1;33m=\u001b[0m\u001b[0msax\u001b[0m\u001b[1;33m,\u001b[0m \u001b[0mhours_in_segment\u001b[0m\u001b[1;33m=\u001b[0m\u001b[0mpaa\u001b[0m\u001b[1;33m)\u001b[0m\u001b[1;33m\u001b[0m\u001b[1;33m\u001b[0m\u001b[0m\n\u001b[0m\u001b[0;32m    153\u001b[0m         \u001b[0mX_discr_train\u001b[0m \u001b[1;33m=\u001b[0m \u001b[0mX_discr_train\u001b[0m\u001b[1;33m[\u001b[0m\u001b[1;36m0\u001b[0m\u001b[1;33m]\u001b[0m\u001b[1;33m.\u001b[0m\u001b[0mravel\u001b[0m\u001b[1;33m(\u001b[0m\u001b[1;33m)\u001b[0m\u001b[1;33m\u001b[0m\u001b[1;33m\u001b[0m\u001b[0m\n\u001b[0;32m    154\u001b[0m \u001b[1;33m\u001b[0m\u001b[0m\n",
      "\u001b[1;32m~\\Documents\\TU Delft\\Master\\CS4035 - Cyber Data Analytics\\Lab\\Lab 2\\3. Discretization\\helper.py\u001b[0m in \u001b[0;36mdiscretize_series\u001b[1;34m(series_raw, n_sax_symbols, hours_in_segment, inverse_transform)\u001b[0m\n\u001b[0;32m     65\u001b[0m     \u001b[0msax\u001b[0m \u001b[1;33m=\u001b[0m \u001b[0mSymbolicAggregateApproximation\u001b[0m\u001b[1;33m(\u001b[0m\u001b[0malphabet_size_avg\u001b[0m\u001b[1;33m=\u001b[0m\u001b[0mn_sax_symbols\u001b[0m\u001b[1;33m,\u001b[0m \u001b[0mn_segments\u001b[0m\u001b[1;33m=\u001b[0m\u001b[0mn_paa_segments\u001b[0m\u001b[1;33m)\u001b[0m\u001b[1;33m\u001b[0m\u001b[1;33m\u001b[0m\u001b[0m\n\u001b[0;32m     66\u001b[0m     \u001b[0mmodel\u001b[0m \u001b[1;33m=\u001b[0m \u001b[0msax\u001b[0m\u001b[1;33m.\u001b[0m\u001b[0mfit\u001b[0m\u001b[1;33m(\u001b[0m\u001b[0mdata\u001b[0m\u001b[1;33m)\u001b[0m\u001b[1;33m\u001b[0m\u001b[1;33m\u001b[0m\u001b[0m\n\u001b[1;32m---> 67\u001b[1;33m     \u001b[0mtransformed\u001b[0m \u001b[1;33m=\u001b[0m \u001b[0mmodel\u001b[0m\u001b[1;33m.\u001b[0m\u001b[0mtransform\u001b[0m\u001b[1;33m(\u001b[0m\u001b[0mdata\u001b[0m\u001b[1;33m)\u001b[0m\u001b[1;33m\u001b[0m\u001b[1;33m\u001b[0m\u001b[0m\n\u001b[0m\u001b[0;32m     68\u001b[0m \u001b[1;33m\u001b[0m\u001b[0m\n\u001b[0;32m     69\u001b[0m     \u001b[1;31m# (Optional) Transform discrete samples back to time series\u001b[0m\u001b[1;33m\u001b[0m\u001b[1;33m\u001b[0m\u001b[1;33m\u001b[0m\u001b[0m\n",
      "\u001b[1;32m~\\Anaconda3\\lib\\site-packages\\tslearn\\piecewise.py\u001b[0m in \u001b[0;36mtransform\u001b[1;34m(self, X, y)\u001b[0m\n\u001b[0;32m    364\u001b[0m         \"\"\"\n\u001b[0;32m    365\u001b[0m         \u001b[0mX_\u001b[0m \u001b[1;33m=\u001b[0m \u001b[0mto_time_series_dataset\u001b[0m\u001b[1;33m(\u001b[0m\u001b[0mX\u001b[0m\u001b[1;33m)\u001b[0m\u001b[1;33m\u001b[0m\u001b[1;33m\u001b[0m\u001b[0m\n\u001b[1;32m--> 366\u001b[1;33m         \u001b[1;32mreturn\u001b[0m \u001b[0mself\u001b[0m\u001b[1;33m.\u001b[0m\u001b[0m_transform\u001b[0m\u001b[1;33m(\u001b[0m\u001b[0mX_\u001b[0m\u001b[1;33m,\u001b[0m \u001b[0my\u001b[0m\u001b[1;33m)\u001b[0m\u001b[1;33m\u001b[0m\u001b[1;33m\u001b[0m\u001b[0m\n\u001b[0m\u001b[0;32m    367\u001b[0m \u001b[1;33m\u001b[0m\u001b[0m\n\u001b[0;32m    368\u001b[0m     \u001b[1;32mdef\u001b[0m \u001b[0mdistance_sax\u001b[0m\u001b[1;33m(\u001b[0m\u001b[0mself\u001b[0m\u001b[1;33m,\u001b[0m \u001b[0msax1\u001b[0m\u001b[1;33m,\u001b[0m \u001b[0msax2\u001b[0m\u001b[1;33m)\u001b[0m\u001b[1;33m:\u001b[0m\u001b[1;33m\u001b[0m\u001b[1;33m\u001b[0m\u001b[0m\n",
      "\u001b[1;32m~\\Anaconda3\\lib\\site-packages\\tslearn\\piecewise.py\u001b[0m in \u001b[0;36m_transform\u001b[1;34m(self, X, y)\u001b[0m\n\u001b[0;32m    347\u001b[0m \u001b[1;33m\u001b[0m\u001b[0m\n\u001b[0;32m    348\u001b[0m     \u001b[1;32mdef\u001b[0m \u001b[0m_transform\u001b[0m\u001b[1;33m(\u001b[0m\u001b[0mself\u001b[0m\u001b[1;33m,\u001b[0m \u001b[0mX\u001b[0m\u001b[1;33m,\u001b[0m \u001b[0my\u001b[0m\u001b[1;33m=\u001b[0m\u001b[1;32mNone\u001b[0m\u001b[1;33m)\u001b[0m\u001b[1;33m:\u001b[0m\u001b[1;33m\u001b[0m\u001b[1;33m\u001b[0m\u001b[0m\n\u001b[1;32m--> 349\u001b[1;33m         \u001b[0mX_paa\u001b[0m \u001b[1;33m=\u001b[0m \u001b[0mPiecewiseAggregateApproximation\u001b[0m\u001b[1;33m.\u001b[0m\u001b[0m_transform\u001b[0m\u001b[1;33m(\u001b[0m\u001b[0mself\u001b[0m\u001b[1;33m,\u001b[0m \u001b[0mX\u001b[0m\u001b[1;33m,\u001b[0m \u001b[0my\u001b[0m\u001b[1;33m)\u001b[0m\u001b[1;33m\u001b[0m\u001b[1;33m\u001b[0m\u001b[0m\n\u001b[0m\u001b[0;32m    350\u001b[0m         \u001b[1;32mreturn\u001b[0m \u001b[0m_paa_to_symbols\u001b[0m\u001b[1;33m(\u001b[0m\u001b[0mX_paa\u001b[0m\u001b[1;33m,\u001b[0m \u001b[0mself\u001b[0m\u001b[1;33m.\u001b[0m\u001b[0mbreakpoints_avg_\u001b[0m\u001b[1;33m)\u001b[0m\u001b[1;33m\u001b[0m\u001b[1;33m\u001b[0m\u001b[0m\n\u001b[0;32m    351\u001b[0m \u001b[1;33m\u001b[0m\u001b[0m\n",
      "\u001b[1;32m~\\Anaconda3\\lib\\site-packages\\tslearn\\piecewise.py\u001b[0m in \u001b[0;36m_transform\u001b[1;34m(self, X, y)\u001b[0m\n\u001b[0;32m    143\u001b[0m             \u001b[0mstart\u001b[0m \u001b[1;33m=\u001b[0m \u001b[0mi_seg\u001b[0m \u001b[1;33m*\u001b[0m \u001b[0msz_segment\u001b[0m\u001b[1;33m\u001b[0m\u001b[1;33m\u001b[0m\u001b[0m\n\u001b[0;32m    144\u001b[0m             \u001b[0mend\u001b[0m \u001b[1;33m=\u001b[0m \u001b[0mstart\u001b[0m \u001b[1;33m+\u001b[0m \u001b[0msz_segment\u001b[0m\u001b[1;33m\u001b[0m\u001b[1;33m\u001b[0m\u001b[0m\n\u001b[1;32m--> 145\u001b[1;33m             \u001b[0mX_transformed\u001b[0m\u001b[1;33m[\u001b[0m\u001b[1;33m:\u001b[0m\u001b[1;33m,\u001b[0m \u001b[0mi_seg\u001b[0m\u001b[1;33m,\u001b[0m \u001b[1;33m:\u001b[0m\u001b[1;33m]\u001b[0m \u001b[1;33m=\u001b[0m \u001b[0mX\u001b[0m\u001b[1;33m[\u001b[0m\u001b[1;33m:\u001b[0m\u001b[1;33m,\u001b[0m \u001b[0mstart\u001b[0m\u001b[1;33m:\u001b[0m\u001b[0mend\u001b[0m\u001b[1;33m,\u001b[0m \u001b[1;33m:\u001b[0m\u001b[1;33m]\u001b[0m\u001b[1;33m.\u001b[0m\u001b[0mmean\u001b[0m\u001b[1;33m(\u001b[0m\u001b[0maxis\u001b[0m\u001b[1;33m=\u001b[0m\u001b[1;36m1\u001b[0m\u001b[1;33m)\u001b[0m\u001b[1;33m\u001b[0m\u001b[1;33m\u001b[0m\u001b[0m\n\u001b[0m\u001b[0;32m    146\u001b[0m         \u001b[1;32mreturn\u001b[0m \u001b[0mX_transformed\u001b[0m\u001b[1;33m\u001b[0m\u001b[1;33m\u001b[0m\u001b[0m\n\u001b[0;32m    147\u001b[0m \u001b[1;33m\u001b[0m\u001b[0m\n",
      "\u001b[1;31mKeyboardInterrupt\u001b[0m: "
     ]
    }
   ],
   "source": [
    "%%time\n",
    "\n",
    "# Detect anomalies for every configuration in grid\n",
    "for conf in grid:\n",
    "    \n",
    "    predictions = detect(X_train[features], *conf)\n",
    "    \n",
    "    # Score (returns precision, recall and f1-score)\n",
    "    grid_search_results[conf] = score(y_train[:len(predictions)], predictions)\n",
    "\n",
    "print(\"Done\")"
   ]
  },
  {
   "cell_type": "markdown",
   "metadata": {},
   "source": [
    "#### Evaluate grid search results"
   ]
  },
  {
   "cell_type": "code",
   "execution_count": 58,
   "metadata": {},
   "outputs": [
    {
     "name": "stdout",
     "output_type": "stream",
     "text": [
      "======================================================\n",
      " PAA   SAX   n-Gr  Thres.   |  Prec.   Recall  F1     \n",
      "======================================================\n",
      " 3     3     3     0.0010   |  0.0000  0.0000  0.0000 \n",
      " 3     3     3     0.0020   |  0.0000  0.0000  0.0000 \n",
      " 3     3     3     0.0030   |  0.0000  0.0000  0.0000 \n",
      " 3     3     3     0.0100   |  0.0000  0.0000  0.0000 \n",
      " 3     4     3     0.0010   |  0.0000  0.0000  0.0000 \n",
      " 3     4     3     0.0020   |  0.0000  0.0000  0.0000 \n",
      " 3     4     3     0.0030   |  0.0000  0.0000  0.0000 \n",
      " 3     4     3     0.0100   |  0.0000  0.0000  0.0000 \n",
      " 3     5     3     0.0010   |  0.0000  0.0000  0.0000 \n",
      " 3     5     3     0.0020   |  0.0000  0.0000  0.0000 \n",
      " 3     5     3     0.0030   |  0.0000  0.0000  0.0000 \n",
      " 3     5     3     0.0100   |  0.0000  0.0000  0.0000 \n",
      " 4     3     3     0.0010   |  0.0000  0.0000  0.0000 \n",
      " 4     3     3     0.0020   |  0.0000  0.0000  0.0000 \n",
      " 4     3     3     0.0030   |  0.0000  0.0000  0.0000 \n",
      " 4     3     3     0.0100   |  0.0000  0.0000  0.0000 \n",
      " 4     4     3     0.0010   |  0.0000  0.0000  0.0000 \n",
      " 4     4     3     0.0020   |  0.0000  0.0000  0.0000 \n",
      " 4     4     3     0.0030   |  0.0000  0.0000  0.0000 \n",
      " 4     4     3     0.0100   |  0.0000  0.0000  0.0000 \n",
      " 4     5     3     0.0010   |  0.0000  0.0000  0.0000 \n",
      " 4     5     3     0.0020   |  0.0000  0.0000  0.0000 \n",
      " 4     5     3     0.0030   |  0.0000  0.0000  0.0000 \n",
      " 4     5     3     0.0100   |  0.0000  0.0000  0.0000 \n",
      " 5     3     3     0.0010   |  0.0000  0.0000  0.0000 \n"
     ]
    }
   ],
   "source": [
    "best = False\n",
    "\n",
    "print('='*54)\n",
    "print(' {:5s} {:5s} {:5s} {:7s}  |  {:7} {:7} {:7}'.format('PAA', 'SAX', 'n-Gr', 'Thres.', 'Prec.', 'Recall', 'F1'))\n",
    "print('='*54)\n",
    "\n",
    "# Sort grid search results on F1-score and display top 25 options\n",
    "for conf in sorted(grid_search_results, key=lambda x: grid_search_results[x][0], reverse=True)[:25]:\n",
    "    if not best: best = conf\n",
    "    print(' {:<5d} {:<5d} {:<5d} {:<7.4f}  |  {:<7.4f} {:<7.4f} {:<7.4f}'.format(*conf, *grid_search_results[conf]))\n"
   ]
  },
  {
   "cell_type": "markdown",
   "metadata": {},
   "source": [
    "### Evaluate performance on test set"
   ]
  },
  {
   "cell_type": "code",
   "execution_count": 62,
   "metadata": {},
   "outputs": [
    {
     "data": {
      "text/plain": [
       "0"
      ]
     },
     "metadata": {},
     "output_type": "display_data"
    },
    {
     "data": {
      "text/plain": [
       "(0, 0, 0)"
      ]
     },
     "execution_count": 62,
     "metadata": {},
     "output_type": "execute_result"
    }
   ],
   "source": [
    "# Unpack best parameters\n",
    "# paa, sax, ngram, threshold = best\n",
    "paa = 8\n",
    "sax = 3\n",
    "ngram = 3\n",
    "threshold = 0.0015\n",
    "\n",
    "# Init predictions vector\n",
    "predictions = [0] * (len(X_test) - len(X_test) % paa)\n",
    "\n",
    "for sensor in features:\n",
    "\n",
    "    # Discretize test data\n",
    "    X_test_discr, _ = discretize_series(X_test[sensor], n_sax_symbols=sax, hours_in_segment=paa)\n",
    "    X_test_discr = X_test_discr[0].ravel()\n",
    "    \n",
    "    # Detect anomalies\n",
    "    proba = ngram_proba_series(X_test_discr, n=ngram)\n",
    "    labels = find_anomalies(X_test_discr, proba, n=ngram, threshold=threshold, window_size=paa)\n",
    "    \n",
    "    # Add anomalies to overall predictions\n",
    "    predictions = np.add(predictions, labels)\n",
    "    \n",
    "# Reset incidents which have been predicted by multiple sensors\n",
    "predictions[predictions > 1] = 1\n",
    "\n",
    "display(np.sum(predictions))\n",
    "\n",
    "# Score (returns precision, recall and f1-score)\n",
    "score(y_test[:len(predictions)], predictions)"
   ]
  },
  {
   "cell_type": "markdown",
   "metadata": {},
   "source": [
    "### Visualize detected attacks"
   ]
  },
  {
   "cell_type": "code",
   "execution_count": 46,
   "metadata": {},
   "outputs": [],
   "source": [
    "p = pd.Series(predictions, index=X_test.index[:len(predictions)])"
   ]
  },
  {
   "cell_type": "code",
   "execution_count": 63,
   "metadata": {},
   "outputs": [
    {
     "data": {
      "text/plain": [
       "<matplotlib.axes._subplots.AxesSubplot at 0x2b0185b5198>"
      ]
     },
     "execution_count": 63,
     "metadata": {},
     "output_type": "execute_result"
    },
    {
     "data": {
      "image/png": "[encoded data removed]",
      "text/plain": [
       "<Figure size 432x288 with 1 Axes>"
      ]
     },
     "metadata": {
      "needs_background": "light"
     },
     "output_type": "display_data"
    }
   ],
   "source": [
    "y_test.plot.line(linewidth=3)\n",
    "p.plot.line()"
   ]
  },
  {
   "cell_type": "markdown",
   "metadata": {},
   "source": [
    "# TODO"
   ]
  },
  {
   "cell_type": "markdown",
   "metadata": {},
   "source": [
    " - Sequence alignment + distance calculation? (weet niet of dat kan als datasets niet dezelfde lengte heeft)"
   ]
  },
  {
   "cell_type": "code",
   "execution_count": null,
   "metadata": {},
   "outputs": [],
   "source": []
  }
 ],
 "metadata": {
  "kernelspec": {
   "display_name": "Python 3",
   "language": "python",
   "name": "python3"
  },
  "language_info": {
   "codemirror_mode": {
    "name": "ipython",
    "version": 3
   },
   "file_extension": ".py",
   "mimetype": "text/x-python",
   "name": "python",
   "nbconvert_exporter": "python",
   "pygments_lexer": "ipython3",
   "version": "3.7.2"
  }
 },
 "nbformat": 4,
 "nbformat_minor": 2
}
