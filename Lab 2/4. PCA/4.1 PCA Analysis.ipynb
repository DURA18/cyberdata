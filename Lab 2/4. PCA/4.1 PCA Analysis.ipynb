{
 "cells": [
  {
   "cell_type": "markdown",
   "metadata": {},
   "source": [
    "# Task 4.1: PCA Analysis"
   ]
  },
  {
   "cell_type": "code",
   "execution_count": 1,
   "metadata": {},
   "outputs": [],
   "source": [
    "%load_ext autoreload\n",
    "%autoreload 2"
   ]
  },
  {
   "cell_type": "code",
   "execution_count": 2,
   "metadata": {},
   "outputs": [],
   "source": [
    "import pandas as pd\n",
    "from helper import *"
   ]
  },
  {
   "cell_type": "markdown",
   "metadata": {},
   "source": [
    "### Load data"
   ]
  },
  {
   "cell_type": "code",
   "execution_count": 3,
   "metadata": {},
   "outputs": [
    {
     "name": "stderr",
     "output_type": "stream",
     "text": [
      "C:\\Users\\CodeSupply\\Anaconda3\\lib\\site-packages\\sklearn\\preprocessing\\data.py:625: DataConversionWarning: Data with input dtype int64, float64 were all converted to float64 by StandardScaler.\n",
      "  return self.partial_fit(X, y)\n",
      "C:\\Users\\CodeSupply\\Anaconda3\\lib\\site-packages\\ipykernel_launcher.py:10: DataConversionWarning: Data with input dtype int64, float64 were all converted to float64 by StandardScaler.\n",
      "  # Remove the CWD from sys.path while we load stuff.\n"
     ]
    }
   ],
   "source": [
    "X_train_raw, y_train = load_dataset(\"../data/training1_no_incidents.csv\")\n",
    "X_test_raw, y_test   = load_dataset(\"../data/training2_with_incidents.csv\")\n",
    "\n",
    "# Select sensors to consider\n",
    "sensors = X_train_raw.columns\n",
    "\n",
    "# Scale to unit variance\n",
    "scaler = preprocessing.StandardScaler()\n",
    "scaler.fit(X_train_raw[sensors])\n",
    "X_train = scaler.transform(X_train_raw[sensors])\n",
    "X_test = scaler.transform(X_test_raw[sensors])"
   ]
  },
  {
   "cell_type": "markdown",
   "metadata": {},
   "source": [
    "### Visualize principal components vs. explained variance"
   ]
  },
  {
   "cell_type": "code",
   "execution_count": 4,
   "metadata": {},
   "outputs": [
    {
     "data": {
      "image/png": "[encoded data removed]",
      "text/plain": [
       "<Figure size 576x288 with 2 Axes>"
      ]
     },
     "metadata": {
      "needs_background": "light"
     },
     "output_type": "display_data"
    }
   ],
   "source": [
    "_, _, _, variance = pca_model(X_train, X_train_raw.index, y_train, n_components=25)\n",
    "plot_variance(*variance, save=\"output/pca_variance.pdf\")"
   ]
  },
  {
   "cell_type": "markdown",
   "metadata": {},
   "source": [
    "### Visualize outliers (Training 1)"
   ]
  },
  {
   "cell_type": "code",
   "execution_count": 5,
   "metadata": {},
   "outputs": [
    {
     "name": "stdout",
     "output_type": "stream",
     "text": [
      "Visualizing outliers when reconstructing data with 43 PCA components.\n"
     ]
    },
    {
     "data": {
      "image/png": "[encoded data removed]",
      "text/plain": [
       "<Figure size 720x288 with 1 Axes>"
      ]
     },
     "metadata": {
      "needs_background": "light"
     },
     "output_type": "display_data"
    }
   ],
   "source": [
    "print(\"Visualizing outliers when reconstructing data with {:d} PCA components.\".format(len(sensors)))\n",
    "_, _, residuals, _ = pca_model(X_train, X_train_raw.index, y_train, n_components=len(sensors))\n",
    "plot_residuals(residuals, save=\"output/training_1_residuals.pdf\")"
   ]
  },
  {
   "cell_type": "markdown",
   "metadata": {},
   "source": [
    "### Find outlier threshold"
   ]
  },
  {
   "cell_type": "code",
   "execution_count": 6,
   "metadata": {},
   "outputs": [],
   "source": [
    "_, _, residuals, _ = pca_model(X_train, X_train_raw.index, y_train, n_components=4)"
   ]
  },
  {
   "cell_type": "code",
   "execution_count": 7,
   "metadata": {},
   "outputs": [
    {
     "data": {
      "text/plain": [
       "[1.0,\n",
       " 0.9914880739270949,\n",
       " 0.8903366707141487,\n",
       " 0.8483755636382443,\n",
       " 0.2445004732607482,\n",
       " 0.24213108097082162,\n",
       " 0.2410259100387855,\n",
       " 0.24002646965417995,\n",
       " 0.23809333933906943,\n",
       " 0.2369418438568059,\n",
       " 0.23657559211347226,\n",
       " 0.23623328116937486,\n",
       " 0.23615567524317488,\n",
       " 0.23559412118837714,\n",
       " 0.23479002808400992,\n",
       " 0.23429823385611062,\n",
       " 0.23389232897703022,\n",
       " 0.23027836498917267,\n",
       " 0.2283402784897643,\n",
       " 0.22802258358233188,\n",
       " 0.009765569264538768,\n",
       " 0.009201743057777208,\n",
       " 0.008895911540377449,\n",
       " 0.00874987160649511,\n",
       " 0.008719229961830185]"
      ]
     },
     "execution_count": 7,
     "metadata": {},
     "output_type": "execute_result"
    }
   ],
   "source": [
    "sorted(residuals, reverse=True)[:25]"
   ]
  },
  {
   "cell_type": "code",
   "execution_count": 8,
   "metadata": {},
   "outputs": [
    {
     "data": {
      "text/plain": [
       "DATETIME\n",
       "2014-04-13 20:00:00    0.242131\n",
       "2014-04-13 21:00:00    0.236942\n",
       "2014-04-13 22:00:00    0.234298\n",
       "2014-05-04 22:00:00    0.240026\n",
       "2014-05-04 23:00:00    0.228023\n",
       "2014-05-11 00:00:00    0.991488\n",
       "2014-05-11 01:00:00    0.890337\n",
       "2014-05-11 23:00:00    0.228340\n",
       "2014-05-12 00:00:00    0.233892\n",
       "2014-05-25 00:00:00    1.000000\n",
       "2014-05-25 01:00:00    0.848376\n",
       "2014-05-25 20:00:00    0.244500\n",
       "2014-05-25 21:00:00    0.241026\n",
       "2014-05-25 22:00:00    0.234790\n",
       "2014-06-15 21:00:00    0.236233\n",
       "2014-06-15 22:00:00    0.236156\n",
       "2014-07-06 21:00:00    0.235594\n",
       "2014-07-06 22:00:00    0.236576\n",
       "2014-11-02 22:00:00    0.238093\n",
       "2014-11-02 23:00:00    0.230278\n",
       "dtype: float64"
      ]
     },
     "execution_count": 8,
     "metadata": {},
     "output_type": "execute_result"
    }
   ],
   "source": [
    "residuals[residuals > .01]"
   ]
  },
  {
   "cell_type": "markdown",
   "metadata": {},
   "source": [
    "With a threshold of .01, we find the outliers visible in the outlier plot.<br>\n",
    "In `4.2 - PCA Model`, we remove these outliers before training the model."
   ]
  }
 ],
 "metadata": {
  "kernelspec": {
   "display_name": "Python 3",
   "language": "python",
   "name": "python3"
  },
  "language_info": {
   "codemirror_mode": {
    "name": "ipython",
    "version": 3
   },
   "file_extension": ".py",
   "mimetype": "text/x-python",
   "name": "python",
   "nbconvert_exporter": "python",
   "pygments_lexer": "ipython3",
   "version": "3.7.2"
  }
 },
 "nbformat": 4,
 "nbformat_minor": 2
}
