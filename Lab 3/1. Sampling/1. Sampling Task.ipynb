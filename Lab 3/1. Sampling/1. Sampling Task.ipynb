{
 "cells": [
  {
   "cell_type": "markdown",
   "metadata": {},
   "source": [
    "# 1. Sampling task"
   ]
  },
  {
   "cell_type": "markdown",
   "metadata": {},
   "source": [
    "We use **CTU-13 dataset, malware capture 43**.\n",
    "\n",
    "\n",
    "* [x] Estimate the distribution over the other IP_addresses, what are the 10 most frequent values?\n",
    "* [x] Write code for RESERVOIR sampling, use it to estimate the distribution in one pass. Use a range of reservoir sizes.\n",
    "* [x] What are the 10 most frequent IP-addresses and their frequencies when sampled? Use the theory to explain any approximation errors you observe."
   ]
  },
  {
   "cell_type": "code",
   "execution_count": 1,
   "metadata": {},
   "outputs": [],
   "source": [
    "%load_ext autoreload\n",
    "%autoreload 2"
   ]
  },
  {
   "cell_type": "code",
   "execution_count": 2,
   "metadata": {},
   "outputs": [],
   "source": [
    "import pandas as pd\n",
    "import os\n",
    "import sys\n",
    "nb_dir = os.path.split(os.getcwd())[0]\n",
    "if nb_dir not in sys.path:\n",
    "    sys.path.append(nb_dir)\n",
    "from global_helper import *\n",
    "from helper import *"
   ]
  },
  {
   "cell_type": "markdown",
   "metadata": {},
   "source": [
    "## Load data"
   ]
  },
  {
   "cell_type": "code",
   "execution_count": 3,
   "metadata": {},
   "outputs": [
    {
     "name": "stdout",
     "output_type": "stream",
     "text": [
      "Wall time: 58.4 s\n"
     ]
    }
   ],
   "source": [
    "%%time\n",
    "\n",
    "# Read file and preprocess columns (takes ~1.5min)\n",
    "# Only loads the traffic associated with the provided IP address.\n",
    "df = load_data(\"../data/capture20110811.pcap.netflow.labeled\", keep_ip='147.32.84.165')"
   ]
  },
  {
   "cell_type": "markdown",
   "metadata": {},
   "source": [
    "## Estimate IP address distribution"
   ]
  },
  {
   "cell_type": "markdown",
   "metadata": {},
   "source": [
    "We first find the 10 most frequent IP addresses to which our infected host connects."
   ]
  },
  {
   "cell_type": "code",
   "execution_count": 4,
   "metadata": {},
   "outputs": [
    {
     "data": {
      "text/plain": [
       "193.23.181.44      6167\n",
       "174.128.246.102    3427\n",
       "174.37.196.55      3357\n",
       "67.19.72.206       3135\n",
       "72.20.15.61        2966\n",
       "173.236.31.226     1708\n",
       "184.154.89.154     1678\n",
       "46.4.36.120        1627\n",
       "147.32.80.9         787\n",
       "217.163.21.37       701\n",
       "Name: dest_ip, dtype: int64"
      ]
     },
     "execution_count": 4,
     "metadata": {},
     "output_type": "execute_result"
    }
   ],
   "source": [
    "most_freq_ip = df['dest_ip'].value_counts()\n",
    "most_freq_ip[:10]"
   ]
  },
  {
   "cell_type": "code",
   "execution_count": 5,
   "metadata": {},
   "outputs": [
    {
     "data": {
      "image/png": "[encoded data removed]",
      "text/plain": [
       "<Figure size 576x288 with 1 Axes>"
      ]
     },
     "metadata": {
      "needs_background": "light"
     },
     "output_type": "display_data"
    }
   ],
   "source": [
    "# Plot counts\n",
    "plot_counts_bar(most_freq_ip, limit=10, save=\"output_figures/test.pdf\")"
   ]
  },
  {
   "cell_type": "markdown",
   "metadata": {},
   "source": [
    "Convert to probability for easier comparison with samples later on."
   ]
  },
  {
   "cell_type": "code",
   "execution_count": 153,
   "metadata": {},
   "outputs": [
    {
     "data": {
      "text/plain": [
       "193.23.181.44      0.136254\n",
       "174.128.246.102    0.075716\n",
       "174.37.196.55      0.074170\n",
       "67.19.72.206       0.069265\n",
       "72.20.15.61        0.065531\n",
       "173.236.31.226     0.037737\n",
       "184.154.89.154     0.037074\n",
       "46.4.36.120        0.035947\n",
       "147.32.80.9        0.017388\n",
       "217.163.21.37      0.015488\n",
       "Name: all, dtype: float64"
      ]
     },
     "execution_count": 153,
     "metadata": {},
     "output_type": "execute_result"
    }
   ],
   "source": [
    "comparison = pd.DataFrame()\n",
    "comparison[\"all\"] = sample_to_proba(df['dest_ip'])[:10]\n",
    "comparison[\"all\"]"
   ]
  },
  {
   "cell_type": "markdown",
   "metadata": {},
   "source": [
    "## RESERVOIR sampling"
   ]
  },
  {
   "cell_type": "markdown",
   "metadata": {},
   "source": [
    "We use reservoir sampling with various reservoir sizes."
   ]
  },
  {
   "cell_type": "code",
   "execution_count": 154,
   "metadata": {},
   "outputs": [
    {
     "name": "stdout",
     "output_type": "stream",
     "text": [
      "Wall time: 57.3 s\n"
     ]
    }
   ],
   "source": [
    "%%time\n",
    "\n",
    "sizes = [40000, 30000, 20000, 10000, 5000, 2500, 1000, 100, 10]\n",
    "\n",
    "for size in sizes:\n",
    "    comparison[str(size)] = sample_to_proba(reservoir_sample(df['dest_ip'], size))"
   ]
  },
  {
   "cell_type": "code",
   "execution_count": 155,
   "metadata": {},
   "outputs": [
    {
     "data": {
      "text/html": [
       "<div>\n",
       "<style scoped>\n",
       "    .dataframe tbody tr th:only-of-type {\n",
       "        vertical-align: middle;\n",
       "    }\n",
       "\n",
       "    .dataframe tbody tr th {\n",
       "        vertical-align: top;\n",
       "    }\n",
       "\n",
       "    .dataframe thead th {\n",
       "        text-align: right;\n",
       "    }\n",
       "</style>\n",
       "<table border=\"1\" class=\"dataframe\">\n",
       "  <thead>\n",
       "    <tr style=\"text-align: right;\">\n",
       "      <th></th>\n",
       "      <th>all</th>\n",
       "      <th>40000</th>\n",
       "      <th>30000</th>\n",
       "      <th>20000</th>\n",
       "      <th>10000</th>\n",
       "      <th>5000</th>\n",
       "      <th>2500</th>\n",
       "      <th>1000</th>\n",
       "      <th>100</th>\n",
       "      <th>10</th>\n",
       "    </tr>\n",
       "  </thead>\n",
       "  <tbody>\n",
       "    <tr>\n",
       "      <th>193.23.181.44</th>\n",
       "      <td>0.136254</td>\n",
       "      <td>0.136525</td>\n",
       "      <td>0.135833</td>\n",
       "      <td>0.13790</td>\n",
       "      <td>0.1380</td>\n",
       "      <td>0.1338</td>\n",
       "      <td>0.1292</td>\n",
       "      <td>0.149</td>\n",
       "      <td>0.14</td>\n",
       "      <td>0.1</td>\n",
       "    </tr>\n",
       "    <tr>\n",
       "      <th>174.128.246.102</th>\n",
       "      <td>0.075716</td>\n",
       "      <td>0.075375</td>\n",
       "      <td>0.076267</td>\n",
       "      <td>0.07555</td>\n",
       "      <td>0.0690</td>\n",
       "      <td>0.0776</td>\n",
       "      <td>0.0728</td>\n",
       "      <td>0.085</td>\n",
       "      <td>0.14</td>\n",
       "      <td>0.3</td>\n",
       "    </tr>\n",
       "    <tr>\n",
       "      <th>174.37.196.55</th>\n",
       "      <td>0.074170</td>\n",
       "      <td>0.074375</td>\n",
       "      <td>0.074433</td>\n",
       "      <td>0.07485</td>\n",
       "      <td>0.0786</td>\n",
       "      <td>0.0716</td>\n",
       "      <td>0.0776</td>\n",
       "      <td>0.075</td>\n",
       "      <td>0.06</td>\n",
       "      <td>0.1</td>\n",
       "    </tr>\n",
       "    <tr>\n",
       "      <th>67.19.72.206</th>\n",
       "      <td>0.069265</td>\n",
       "      <td>0.070025</td>\n",
       "      <td>0.070300</td>\n",
       "      <td>0.07360</td>\n",
       "      <td>0.0686</td>\n",
       "      <td>0.0752</td>\n",
       "      <td>0.0632</td>\n",
       "      <td>0.059</td>\n",
       "      <td>0.05</td>\n",
       "      <td>NaN</td>\n",
       "    </tr>\n",
       "    <tr>\n",
       "      <th>72.20.15.61</th>\n",
       "      <td>0.065531</td>\n",
       "      <td>0.064600</td>\n",
       "      <td>0.065433</td>\n",
       "      <td>0.06305</td>\n",
       "      <td>0.0610</td>\n",
       "      <td>0.0658</td>\n",
       "      <td>0.0664</td>\n",
       "      <td>0.064</td>\n",
       "      <td>0.06</td>\n",
       "      <td>NaN</td>\n",
       "    </tr>\n",
       "    <tr>\n",
       "      <th>173.236.31.226</th>\n",
       "      <td>0.037737</td>\n",
       "      <td>0.037775</td>\n",
       "      <td>0.037867</td>\n",
       "      <td>0.03910</td>\n",
       "      <td>0.0383</td>\n",
       "      <td>0.0380</td>\n",
       "      <td>0.0424</td>\n",
       "      <td>0.036</td>\n",
       "      <td>0.02</td>\n",
       "      <td>NaN</td>\n",
       "    </tr>\n",
       "    <tr>\n",
       "      <th>184.154.89.154</th>\n",
       "      <td>0.037074</td>\n",
       "      <td>0.036675</td>\n",
       "      <td>0.036733</td>\n",
       "      <td>0.03770</td>\n",
       "      <td>0.0353</td>\n",
       "      <td>0.0348</td>\n",
       "      <td>0.0336</td>\n",
       "      <td>0.043</td>\n",
       "      <td>0.02</td>\n",
       "      <td>0.1</td>\n",
       "    </tr>\n",
       "    <tr>\n",
       "      <th>46.4.36.120</th>\n",
       "      <td>0.035947</td>\n",
       "      <td>0.036000</td>\n",
       "      <td>0.036433</td>\n",
       "      <td>0.03580</td>\n",
       "      <td>0.0379</td>\n",
       "      <td>0.0342</td>\n",
       "      <td>0.0336</td>\n",
       "      <td>0.039</td>\n",
       "      <td>0.06</td>\n",
       "      <td>NaN</td>\n",
       "    </tr>\n",
       "    <tr>\n",
       "      <th>147.32.80.9</th>\n",
       "      <td>0.017388</td>\n",
       "      <td>0.017675</td>\n",
       "      <td>0.016833</td>\n",
       "      <td>0.01685</td>\n",
       "      <td>0.0158</td>\n",
       "      <td>0.0176</td>\n",
       "      <td>0.0184</td>\n",
       "      <td>0.019</td>\n",
       "      <td>NaN</td>\n",
       "      <td>NaN</td>\n",
       "    </tr>\n",
       "    <tr>\n",
       "      <th>217.163.21.37</th>\n",
       "      <td>0.015488</td>\n",
       "      <td>0.015850</td>\n",
       "      <td>0.015433</td>\n",
       "      <td>0.01420</td>\n",
       "      <td>0.0147</td>\n",
       "      <td>0.0182</td>\n",
       "      <td>0.0148</td>\n",
       "      <td>0.004</td>\n",
       "      <td>NaN</td>\n",
       "      <td>NaN</td>\n",
       "    </tr>\n",
       "  </tbody>\n",
       "</table>\n",
       "</div>"
      ],
      "text/plain": [
       "                      all     40000     30000    20000   10000    5000  \\\n",
       "193.23.181.44    0.136254  0.136525  0.135833  0.13790  0.1380  0.1338   \n",
       "174.128.246.102  0.075716  0.075375  0.076267  0.07555  0.0690  0.0776   \n",
       "174.37.196.55    0.074170  0.074375  0.074433  0.07485  0.0786  0.0716   \n",
       "67.19.72.206     0.069265  0.070025  0.070300  0.07360  0.0686  0.0752   \n",
       "72.20.15.61      0.065531  0.064600  0.065433  0.06305  0.0610  0.0658   \n",
       "173.236.31.226   0.037737  0.037775  0.037867  0.03910  0.0383  0.0380   \n",
       "184.154.89.154   0.037074  0.036675  0.036733  0.03770  0.0353  0.0348   \n",
       "46.4.36.120      0.035947  0.036000  0.036433  0.03580  0.0379  0.0342   \n",
       "147.32.80.9      0.017388  0.017675  0.016833  0.01685  0.0158  0.0176   \n",
       "217.163.21.37    0.015488  0.015850  0.015433  0.01420  0.0147  0.0182   \n",
       "\n",
       "                   2500   1000   100   10  \n",
       "193.23.181.44    0.1292  0.149  0.14  0.1  \n",
       "174.128.246.102  0.0728  0.085  0.14  0.3  \n",
       "174.37.196.55    0.0776  0.075  0.06  0.1  \n",
       "67.19.72.206     0.0632  0.059  0.05  NaN  \n",
       "72.20.15.61      0.0664  0.064  0.06  NaN  \n",
       "173.236.31.226   0.0424  0.036  0.02  NaN  \n",
       "184.154.89.154   0.0336  0.043  0.02  0.1  \n",
       "46.4.36.120      0.0336  0.039  0.06  NaN  \n",
       "147.32.80.9      0.0184  0.019   NaN  NaN  \n",
       "217.163.21.37    0.0148  0.004   NaN  NaN  "
      ]
     },
     "execution_count": 155,
     "metadata": {},
     "output_type": "execute_result"
    }
   ],
   "source": [
    "comparison[:10]"
   ]
  },
  {
   "cell_type": "markdown",
   "metadata": {},
   "source": [
    "## Mean-Absolute Error (MAE)\n",
    "Calculate the MAE per reservoir size."
   ]
  },
  {
   "cell_type": "code",
   "execution_count": 156,
   "metadata": {},
   "outputs": [],
   "source": [
    "errors = pd.Series()\n",
    "errors['all'] = 0\n",
    "errors.name = \"MAE\"\n",
    "\n",
    "for column in comparison.columns:\n",
    "    if column == 'all': continue\n",
    "    \n",
    "    errors[column] = np.sum(np.abs(comparison[column].fillna(0) - comparison['all'])) / len(comparison[column])"
   ]
  },
  {
   "cell_type": "code",
   "execution_count": 157,
   "metadata": {},
   "outputs": [
    {
     "data": {
      "text/html": [
       "<div>\n",
       "<style scoped>\n",
       "    .dataframe tbody tr th:only-of-type {\n",
       "        vertical-align: middle;\n",
       "    }\n",
       "\n",
       "    .dataframe tbody tr th {\n",
       "        vertical-align: top;\n",
       "    }\n",
       "\n",
       "    .dataframe thead th {\n",
       "        text-align: right;\n",
       "    }\n",
       "</style>\n",
       "<table border=\"1\" class=\"dataframe\">\n",
       "  <thead>\n",
       "    <tr style=\"text-align: right;\">\n",
       "      <th></th>\n",
       "      <th>MAE</th>\n",
       "    </tr>\n",
       "  </thead>\n",
       "  <tbody>\n",
       "    <tr>\n",
       "      <th>all</th>\n",
       "      <td>0.000000</td>\n",
       "    </tr>\n",
       "    <tr>\n",
       "      <th>40000</th>\n",
       "      <td>0.000365</td>\n",
       "    </tr>\n",
       "    <tr>\n",
       "      <th>30000</th>\n",
       "      <td>0.000393</td>\n",
       "    </tr>\n",
       "    <tr>\n",
       "      <th>20000</th>\n",
       "      <td>0.001327</td>\n",
       "    </tr>\n",
       "    <tr>\n",
       "      <th>10000</th>\n",
       "      <td>0.002475</td>\n",
       "    </tr>\n",
       "    <tr>\n",
       "      <th>5000</th>\n",
       "      <td>0.002032</td>\n",
       "    </tr>\n",
       "    <tr>\n",
       "      <th>2500</th>\n",
       "      <td>0.003252</td>\n",
       "    </tr>\n",
       "    <tr>\n",
       "      <th>1000</th>\n",
       "      <td>0.005847</td>\n",
       "    </tr>\n",
       "    <tr>\n",
       "      <th>100</th>\n",
       "      <td>0.019873</td>\n",
       "    </tr>\n",
       "    <tr>\n",
       "      <th>10</th>\n",
       "      <td>0.059065</td>\n",
       "    </tr>\n",
       "  </tbody>\n",
       "</table>\n",
       "</div>"
      ],
      "text/plain": [
       "            MAE\n",
       "all    0.000000\n",
       "40000  0.000365\n",
       "30000  0.000393\n",
       "20000  0.001327\n",
       "10000  0.002475\n",
       "5000   0.002032\n",
       "2500   0.003252\n",
       "1000   0.005847\n",
       "100    0.019873\n",
       "10     0.059065"
      ]
     },
     "execution_count": 157,
     "metadata": {},
     "output_type": "execute_result"
    }
   ],
   "source": [
    "pd.DataFrame(errors)"
   ]
  },
  {
   "cell_type": "markdown",
   "metadata": {},
   "source": [
    "## Performance\n",
    "Runtime and memory complexity."
   ]
  },
  {
   "cell_type": "code",
   "execution_count": 158,
   "metadata": {},
   "outputs": [
    {
     "name": "stdout",
     "output_type": "stream",
     "text": [
      "Reservoir size: 40000\n",
      "11.7 s ± 1.65 s per loop (mean ± std. dev. of 7 runs, 1 loop each)\n",
      "Reservoir size: 30000\n",
      "19.8 s ± 1.48 s per loop (mean ± std. dev. of 7 runs, 1 loop each)\n",
      "Reservoir size: 20000\n",
      "14.4 s ± 853 ms per loop (mean ± std. dev. of 7 runs, 1 loop each)\n",
      "Reservoir size: 10000\n",
      "5.11 s ± 415 ms per loop (mean ± std. dev. of 7 runs, 1 loop each)\n",
      "Reservoir size: 5000\n",
      "2.38 s ± 129 ms per loop (mean ± std. dev. of 7 runs, 1 loop each)\n",
      "Reservoir size: 2500\n",
      "1.27 s ± 80.4 ms per loop (mean ± std. dev. of 7 runs, 1 loop each)\n",
      "Reservoir size: 1000\n",
      "579 ms ± 25.9 ms per loop (mean ± std. dev. of 7 runs, 1 loop each)\n",
      "Reservoir size: 100\n",
      "151 ms ± 19.2 ms per loop (mean ± std. dev. of 7 runs, 10 loops each)\n",
      "Reservoir size: 10\n",
      "66.5 ms ± 4.13 ms per loop (mean ± std. dev. of 7 runs, 10 loops each)\n"
     ]
    }
   ],
   "source": [
    "# Compare runtime\n",
    "sizes = [40000, 30000, 20000, 10000, 5000, 2500, 1000, 100, 10]\n",
    "\n",
    "for size in sizes:\n",
    "    print('Reservoir size: {:d}'.format(size), flush=True)\n",
    "    %timeit -o comparison[str(size)] = sample_to_proba(reservoir_sample(df['dest_ip'], size))"
   ]
  },
  {
   "cell_type": "code",
   "execution_count": 164,
   "metadata": {},
   "outputs": [],
   "source": [
    "times = [\n",
    "11700,\n",
    "19800,\n",
    "14400,\n",
    "5110,\n",
    "2380,\n",
    "1270,\n",
    "579,\n",
    "151,\n",
    "67,\n",
    "]"
   ]
  },
  {
   "cell_type": "code",
   "execution_count": 165,
   "metadata": {},
   "outputs": [],
   "source": [
    "# Compare memory\n",
    "import sys\n",
    "mems = []\n",
    "\n",
    "for size in sizes:\n",
    "    mems.append ( sys.getsizeof((reservoir_sample(df['dest_ip'], size)) ))"
   ]
  },
  {
   "cell_type": "code",
   "execution_count": 166,
   "metadata": {},
   "outputs": [],
   "source": [
    "perf_df = pd.DataFrame(errors)\n",
    "perf_df.drop('all', inplace=True)"
   ]
  },
  {
   "cell_type": "code",
   "execution_count": 169,
   "metadata": {},
   "outputs": [
    {
     "data": {
      "text/html": [
       "<div>\n",
       "<style scoped>\n",
       "    .dataframe tbody tr th:only-of-type {\n",
       "        vertical-align: middle;\n",
       "    }\n",
       "\n",
       "    .dataframe tbody tr th {\n",
       "        vertical-align: top;\n",
       "    }\n",
       "\n",
       "    .dataframe thead th {\n",
       "        text-align: right;\n",
       "    }\n",
       "</style>\n",
       "<table border=\"1\" class=\"dataframe\">\n",
       "  <thead>\n",
       "    <tr style=\"text-align: right;\">\n",
       "      <th></th>\n",
       "      <th>MAE</th>\n",
       "      <th>time</th>\n",
       "      <th>mem</th>\n",
       "      <th>log_time</th>\n",
       "      <th>log_mem</th>\n",
       "    </tr>\n",
       "  </thead>\n",
       "  <tbody>\n",
       "    <tr>\n",
       "      <th>40000</th>\n",
       "      <td>0.000365</td>\n",
       "      <td>11.700</td>\n",
       "      <td>4130.517578</td>\n",
       "      <td>2.459589</td>\n",
       "      <td>8.326158</td>\n",
       "    </tr>\n",
       "    <tr>\n",
       "      <th>30000</th>\n",
       "      <td>0.000393</td>\n",
       "      <td>19.800</td>\n",
       "      <td>3098.185547</td>\n",
       "      <td>2.985682</td>\n",
       "      <td>8.038572</td>\n",
       "    </tr>\n",
       "    <tr>\n",
       "      <th>20000</th>\n",
       "      <td>0.001327</td>\n",
       "      <td>14.400</td>\n",
       "      <td>2065.531250</td>\n",
       "      <td>2.667228</td>\n",
       "      <td>7.633143</td>\n",
       "    </tr>\n",
       "    <tr>\n",
       "      <th>10000</th>\n",
       "      <td>0.002475</td>\n",
       "      <td>5.110</td>\n",
       "      <td>1032.704102</td>\n",
       "      <td>1.631199</td>\n",
       "      <td>6.939936</td>\n",
       "    </tr>\n",
       "    <tr>\n",
       "      <th>5000</th>\n",
       "      <td>0.002032</td>\n",
       "      <td>2.380</td>\n",
       "      <td>516.538086</td>\n",
       "      <td>0.867100</td>\n",
       "      <td>6.247149</td>\n",
       "    </tr>\n",
       "    <tr>\n",
       "      <th>2500</th>\n",
       "      <td>0.003252</td>\n",
       "      <td>1.270</td>\n",
       "      <td>257.910156</td>\n",
       "      <td>0.239017</td>\n",
       "      <td>5.552611</td>\n",
       "    </tr>\n",
       "    <tr>\n",
       "      <th>1000</th>\n",
       "      <td>0.005847</td>\n",
       "      <td>0.579</td>\n",
       "      <td>103.336914</td>\n",
       "      <td>-0.546453</td>\n",
       "      <td>4.637995</td>\n",
       "    </tr>\n",
       "    <tr>\n",
       "      <th>100</th>\n",
       "      <td>0.019873</td>\n",
       "      <td>0.151</td>\n",
       "      <td>10.410156</td>\n",
       "      <td>-1.890475</td>\n",
       "      <td>2.342782</td>\n",
       "    </tr>\n",
       "    <tr>\n",
       "      <th>10</th>\n",
       "      <td>0.059065</td>\n",
       "      <td>0.067</td>\n",
       "      <td>1.049805</td>\n",
       "      <td>-2.703063</td>\n",
       "      <td>0.048604</td>\n",
       "    </tr>\n",
       "  </tbody>\n",
       "</table>\n",
       "</div>"
      ],
      "text/plain": [
       "            MAE    time          mem  log_time   log_mem\n",
       "40000  0.000365  11.700  4130.517578  2.459589  8.326158\n",
       "30000  0.000393  19.800  3098.185547  2.985682  8.038572\n",
       "20000  0.001327  14.400  2065.531250  2.667228  7.633143\n",
       "10000  0.002475   5.110  1032.704102  1.631199  6.939936\n",
       "5000   0.002032   2.380   516.538086  0.867100  6.247149\n",
       "2500   0.003252   1.270   257.910156  0.239017  5.552611\n",
       "1000   0.005847   0.579   103.336914 -0.546453  4.637995\n",
       "100    0.019873   0.151    10.410156 -1.890475  2.342782\n",
       "10     0.059065   0.067     1.049805 -2.703063  0.048604"
      ]
     },
     "execution_count": 169,
     "metadata": {},
     "output_type": "execute_result"
    }
   ],
   "source": [
    "perf_df['time'] = pd.Series(times, index=perf_df.index) / 1000\n",
    "perf_df['mem'] = pd.Series(mems, index=perf_df.index) / 1024\n",
    "perf_df['log_time'] = np.log(perf_df['time'])\n",
    "perf_df['log_mem'] = np.log(perf_df['mem'])\n",
    "perf_df"
   ]
  }
 ],
 "metadata": {
  "kernelspec": {
   "display_name": "Python 3",
   "language": "python",
   "name": "python3"
  },
  "language_info": {
   "codemirror_mode": {
    "name": "ipython",
    "version": 3
   },
   "file_extension": ".py",
   "mimetype": "text/x-python",
   "name": "python",
   "nbconvert_exporter": "python",
   "pygments_lexer": "ipython3",
   "version": "3.7.3"
  }
 },
 "nbformat": 4,
 "nbformat_minor": 2
}
