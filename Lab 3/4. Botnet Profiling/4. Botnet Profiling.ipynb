{
 "cells": [
  {
   "cell_type": "markdown",
   "metadata": {},
   "source": [
    "4. Botnet Profiling"
   ]
  },
  {
   "cell_type": "markdown",
   "metadata": {},
   "source": [
    "We use **CTU-13 dataset, malware capture 51**.\n"
   ]
  },
  {
   "cell_type": "code",
   "execution_count": 1,
   "metadata": {},
   "outputs": [],
   "source": [
    "%load_ext autoreload\n",
    "%autoreload 2"
   ]
  },
  {
   "cell_type": "code",
   "execution_count": 2,
   "metadata": {},
   "outputs": [],
   "source": [
    "import pandas as pd\n",
    "import os\n",
    "import sys\n",
    "from hmmlearn import hmm\n",
    "nb_dir = os.path.split(os.getcwd())[0]\n",
    "if nb_dir not in sys.path:\n",
    "    sys.path.append(nb_dir)\n",
    "from global_helper import *\n",
    "\n",
    "from helper import *\n",
    "from itertools import product"
   ]
  },
  {
   "cell_type": "code",
   "execution_count": 15,
   "metadata": {},
   "outputs": [],
   "source": [
    "#%%time\n",
    "\n",
    "# Read file and preprocess columns (takes ~1.5min)\n",
    "# Only loads the traffic associated with the provided IP address.\n",
    "df = load_data(\"../data/capture20110811.pcap.netflow.labeled\", keep_ip='147.32.84.165')\n",
    "#df = load_data(\"../data/capture20110818.pcap.netflow.labeled\")"
   ]
  },
  {
   "cell_type": "code",
   "execution_count": 22,
   "metadata": {},
   "outputs": [],
   "source": [
    "infected_hosts = ['147.32.84.165', '147.32.84.191', '147.32.84.192', '147.32.84.193', '147.32.84.204', '147.32.84.205', '147.32.84.206', '147.32.84.207', '147.32.84.208', '147.32.84.209']\n",
    "normal_hosts = ['147.32.84.170', '147.32.84.134', '147.32.84.164']\n"
   ]
  },
  {
   "cell_type": "code",
   "execution_count": 17,
   "metadata": {},
   "outputs": [
    {
     "name": "stdout",
     "output_type": "stream",
     "text": [
      "Raw dataset:\n"
     ]
    },
    {
     "data": {
      "text/html": [
       "<div>\n",
       "<style scoped>\n",
       "    .dataframe tbody tr th:only-of-type {\n",
       "        vertical-align: middle;\n",
       "    }\n",
       "\n",
       "    .dataframe tbody tr th {\n",
       "        vertical-align: top;\n",
       "    }\n",
       "\n",
       "    .dataframe thead th {\n",
       "        text-align: right;\n",
       "    }\n",
       "</style>\n",
       "<table border=\"1\" class=\"dataframe\">\n",
       "  <thead>\n",
       "    <tr style=\"text-align: right;\">\n",
       "      <th></th>\n",
       "      <th>duration</th>\n",
       "      <th>protocol</th>\n",
       "      <th>flags</th>\n",
       "      <th>tos</th>\n",
       "      <th>packets</th>\n",
       "      <th>bytes</th>\n",
       "      <th>flows</th>\n",
       "      <th>label</th>\n",
       "      <th>src_ip</th>\n",
       "      <th>src_port</th>\n",
       "      <th>dest_ip</th>\n",
       "      <th>dest_port</th>\n",
       "    </tr>\n",
       "  </thead>\n",
       "  <tbody>\n",
       "    <tr>\n",
       "      <th>2011-08-11 10:27:20.087</th>\n",
       "      <td>0.000</td>\n",
       "      <td>UDP</td>\n",
       "      <td>INT</td>\n",
       "      <td>0</td>\n",
       "      <td>1</td>\n",
       "      <td>64</td>\n",
       "      <td>1</td>\n",
       "      <td>Botnet</td>\n",
       "      <td>147.32.84.165</td>\n",
       "      <td>1025</td>\n",
       "      <td>147.32.80.9</td>\n",
       "      <td>53</td>\n",
       "    </tr>\n",
       "    <tr>\n",
       "      <th>2011-08-11 10:27:22.334</th>\n",
       "      <td>0.000</td>\n",
       "      <td>UDP</td>\n",
       "      <td>INT</td>\n",
       "      <td>0</td>\n",
       "      <td>1</td>\n",
       "      <td>87</td>\n",
       "      <td>1</td>\n",
       "      <td>Botnet</td>\n",
       "      <td>147.32.84.165</td>\n",
       "      <td>1025</td>\n",
       "      <td>147.32.80.9</td>\n",
       "      <td>53</td>\n",
       "    </tr>\n",
       "    <tr>\n",
       "      <th>2011-08-11 10:27:22.355</th>\n",
       "      <td>0.045</td>\n",
       "      <td>TCP</td>\n",
       "      <td>SRPA_</td>\n",
       "      <td>0</td>\n",
       "      <td>4</td>\n",
       "      <td>629</td>\n",
       "      <td>1</td>\n",
       "      <td>Botnet</td>\n",
       "      <td>147.32.84.165</td>\n",
       "      <td>1027</td>\n",
       "      <td>74.125.232.198</td>\n",
       "      <td>80</td>\n",
       "    </tr>\n",
       "  </tbody>\n",
       "</table>\n",
       "</div>"
      ],
      "text/plain": [
       "                         duration protocol  flags  tos  packets  bytes  flows  \\\n",
       "2011-08-11 10:27:20.087     0.000      UDP    INT    0        1     64      1   \n",
       "2011-08-11 10:27:22.334     0.000      UDP    INT    0        1     87      1   \n",
       "2011-08-11 10:27:22.355     0.045      TCP  SRPA_    0        4    629      1   \n",
       "\n",
       "                          label         src_ip src_port         dest_ip  \\\n",
       "2011-08-11 10:27:20.087  Botnet  147.32.84.165     1025     147.32.80.9   \n",
       "2011-08-11 10:27:22.334  Botnet  147.32.84.165     1025     147.32.80.9   \n",
       "2011-08-11 10:27:22.355  Botnet  147.32.84.165     1027  74.125.232.198   \n",
       "\n",
       "                        dest_port  \n",
       "2011-08-11 10:27:20.087        53  \n",
       "2011-08-11 10:27:22.334        53  \n",
       "2011-08-11 10:27:22.355        80  "
      ]
     },
     "metadata": {},
     "output_type": "display_data"
    },
    {
     "name": "stdout",
     "output_type": "stream",
     "text": [
      "Processed dataset:\n"
     ]
    },
    {
     "data": {
      "text/html": [
       "<div>\n",
       "<style scoped>\n",
       "    .dataframe tbody tr th:only-of-type {\n",
       "        vertical-align: middle;\n",
       "    }\n",
       "\n",
       "    .dataframe tbody tr th {\n",
       "        vertical-align: top;\n",
       "    }\n",
       "\n",
       "    .dataframe thead th {\n",
       "        text-align: right;\n",
       "    }\n",
       "</style>\n",
       "<table border=\"1\" class=\"dataframe\">\n",
       "  <thead>\n",
       "    <tr style=\"text-align: right;\">\n",
       "      <th></th>\n",
       "      <th>duration</th>\n",
       "      <th>protocol</th>\n",
       "      <th>flags</th>\n",
       "      <th>tos</th>\n",
       "      <th>packets</th>\n",
       "      <th>bytes</th>\n",
       "      <th>flows</th>\n",
       "      <th>label</th>\n",
       "      <th>src_ip</th>\n",
       "      <th>src_port</th>\n",
       "      <th>dest_ip</th>\n",
       "      <th>dest_port</th>\n",
       "    </tr>\n",
       "  </thead>\n",
       "  <tbody>\n",
       "    <tr>\n",
       "      <th>2011-08-11 10:27:20.087</th>\n",
       "      <td>0.000</td>\n",
       "      <td>2</td>\n",
       "      <td>9</td>\n",
       "      <td>0</td>\n",
       "      <td>1</td>\n",
       "      <td>64</td>\n",
       "      <td>1</td>\n",
       "      <td>0</td>\n",
       "      <td>0</td>\n",
       "      <td>1025</td>\n",
       "      <td>193</td>\n",
       "      <td>53</td>\n",
       "    </tr>\n",
       "    <tr>\n",
       "      <th>2011-08-11 10:27:22.334</th>\n",
       "      <td>0.000</td>\n",
       "      <td>2</td>\n",
       "      <td>9</td>\n",
       "      <td>0</td>\n",
       "      <td>1</td>\n",
       "      <td>87</td>\n",
       "      <td>1</td>\n",
       "      <td>0</td>\n",
       "      <td>0</td>\n",
       "      <td>1025</td>\n",
       "      <td>193</td>\n",
       "      <td>53</td>\n",
       "    </tr>\n",
       "    <tr>\n",
       "      <th>2011-08-11 10:27:22.355</th>\n",
       "      <td>0.045</td>\n",
       "      <td>1</td>\n",
       "      <td>17</td>\n",
       "      <td>0</td>\n",
       "      <td>4</td>\n",
       "      <td>629</td>\n",
       "      <td>1</td>\n",
       "      <td>0</td>\n",
       "      <td>0</td>\n",
       "      <td>1027</td>\n",
       "      <td>1382</td>\n",
       "      <td>80</td>\n",
       "    </tr>\n",
       "  </tbody>\n",
       "</table>\n",
       "</div>"
      ],
      "text/plain": [
       "                         duration  protocol  flags  tos  packets  bytes  \\\n",
       "2011-08-11 10:27:20.087     0.000         2      9    0        1     64   \n",
       "2011-08-11 10:27:22.334     0.000         2      9    0        1     87   \n",
       "2011-08-11 10:27:22.355     0.045         1     17    0        4    629   \n",
       "\n",
       "                         flows  label  src_ip src_port  dest_ip dest_port  \n",
       "2011-08-11 10:27:20.087      1      0       0     1025      193        53  \n",
       "2011-08-11 10:27:22.334      1      0       0     1025      193        53  \n",
       "2011-08-11 10:27:22.355      1      0       0     1027     1382        80  "
      ]
     },
     "metadata": {},
     "output_type": "display_data"
    }
   ],
   "source": [
    "print(\"Raw dataset:\")\n",
    "display(df.head(3))\n",
    "\n",
    "df_processed = process_data(df)\n",
    "\n",
    "print(\"Processed dataset:\")\n",
    "display(df_processed.head(3))"
   ]
  },
  {
   "cell_type": "code",
   "execution_count": 21,
   "metadata": {},
   "outputs": [
    {
     "data": {
      "text/plain": [
       "'147.32.84.165'"
      ]
     },
     "metadata": {},
     "output_type": "display_data"
    },
    {
     "name": "stderr",
     "output_type": "stream",
     "text": [
      "C:\\ProgramData\\Anaconda3\\lib\\site-packages\\pandas\\core\\ops.py:1649: FutureWarning: elementwise comparison failed; returning scalar instead, but in the future will perform elementwise comparison\n",
      "  result = method(y)\n"
     ]
    },
    {
     "data": {
      "text/plain": [
       "array([[1.43525864e+00, 1.03947132e+00, 1.86048281e+01, 0.00000000e+00,\n",
       "        1.48646151e+00, 9.25893569e+01, 1.00000000e+00, 0.00000000e+00,\n",
       "        0.00000000e+00, 2.79561542e+03, 7.98580843e+02, 9.35058514e+01],\n",
       "       [1.86592487e+00, 1.00000000e+00, 6.40638471e+00, 0.00000000e+00,\n",
       "        5.48294227e+00, 6.06000166e+02, 1.00000000e+00, 0.00000000e+00,\n",
       "        0.00000000e+00, 3.11457445e+03, 5.83143875e+02, 6.47753973e+03],\n",
       "       [4.51232227e-01, 1.00000000e+00, 1.96533943e+01, 0.00000000e+00,\n",
       "        5.26599048e+00, 2.46983920e+03, 1.00000000e+00, 0.00000000e+00,\n",
       "        0.00000000e+00, 2.98144715e+03, 7.95131260e+02, 1.02906755e+03]])"
      ]
     },
     "metadata": {},
     "output_type": "display_data"
    }
   ],
   "source": [
    "model = hmm.GaussianHMM(n_components=3, covariance_type=\"full\")\n",
    "display(infected_hosts[0])\n",
    "herpa = df[df['src_ip'] == infected_hosts[0]]\n",
    "model.fit(df_processed)\n",
    "display(model.means_)\n"
   ]
  },
  {
   "cell_type": "markdown",
   "metadata": {},
   "source": []
  }
 ],
 "metadata": {
  "kernelspec": {
   "display_name": "Python 3",
   "language": "python",
   "name": "python3"
  },
  "language_info": {
   "codemirror_mode": {
    "name": "ipython",
    "version": 3
   },
   "file_extension": ".py",
   "mimetype": "text/x-python",
   "name": "python",
   "nbconvert_exporter": "python",
   "pygments_lexer": "ipython3",
   "version": "3.7.3"
  }
 },
 "nbformat": 4,
 "nbformat_minor": 2
}
